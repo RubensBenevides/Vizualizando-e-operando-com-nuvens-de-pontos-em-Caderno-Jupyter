{
 "cells": [
  {
   "cell_type": "markdown",
   "metadata": {
    "colab_type": "text",
    "id": "_Adko3824TZG"
   },
   "source": [
    "# Visualizando e operando com nuvens de pontos em Caderno Jupyter"
   ]
  },
  {
   "cell_type": "code",
   "execution_count": 1,
   "metadata": {
    "colab": {},
    "colab_type": "code",
    "id": "_lq_97cdzmNi"
   },
   "outputs": [],
   "source": [
    "# Preparar o ambiente no Google Drive:\n",
    "#from google.colab import drive\n",
    "#drive.mount('/content/gdrive')"
   ]
  },
  {
   "cell_type": "markdown",
   "metadata": {},
   "source": [
    "Instalar as seguintes bibliotecas se for rodar no Colab:"
   ]
  },
  {
   "cell_type": "code",
   "execution_count": 2,
   "metadata": {
    "colab": {},
    "colab_type": "code",
    "id": "Q0A_lx6BeOmX"
   },
   "outputs": [],
   "source": [
    "# Instalar bibliotecas que iremos utilizar\n",
    "# Bibliotecas para uso geral\n",
    "#!pip install numpy\n",
    "#!pip install pandas\n",
    "# Biblioteca para manipulação e vizualização de nuvens de pontos\n",
    "#!pip install ipyvolume \n",
    "#!pip install pyntcloud\n",
    "#!pip install open3d\n",
    "#!ls # para importar dados do Google Drive"
   ]
  },
  {
   "cell_type": "code",
   "execution_count": 1,
   "metadata": {
    "colab": {},
    "colab_type": "code",
    "id": "ot4g4Gy351gx"
   },
   "outputs": [],
   "source": [
    "# Importar Bibliotecas\n",
    "import numpy as np\n",
    "import pandas as pd\n",
    "import ipyvolume as ipv\n",
    "import open3d as o3d\n",
    "from open3d import JVisualizer\n",
    "from pyntcloud import PyntCloud as pytc\n",
    "import copy\n",
    "import time"
   ]
  },
  {
   "cell_type": "markdown",
   "metadata": {},
   "source": [
    "# Como importar a nuvem?"
   ]
  },
  {
   "cell_type": "markdown",
   "metadata": {
    "colab_type": "text",
    "id": "pLkeJcn47jrA"
   },
   "source": [
    "Uma nuvem de pontos pode se apresentar em diversos formatos, o mais básico desses formatos é simplesmente um arquivo ascii (txt.) com 3 colunas contendo xyz. Quatro das bibliotecas utilizadas permitem esse tipo de importação, mas algumas são mais eficientes que outras. Outro problema diz respeito à formatação e tipo de dado disponível, que pode ser de simples precisão (float32) ou dupla precisão (flaot64). Vamos aos testes: importar uma nuvem pequena (269 mil pontos, colunas separadas por vírgulas) com todas as bibliotecas que permitem isso:"
   ]
  },
  {
   "cell_type": "markdown",
   "metadata": {
    "colab_type": "text",
    "id": "LokXajRDAKjz"
   },
   "source": [
    "# Import pela Numpy:"
   ]
  },
  {
   "cell_type": "markdown",
   "metadata": {},
   "source": [
    "A numpy lê a nuvem como uma matriz de 269 mil linhas e 3 colunas, é a mais lenta das formas de importação, demora cerca de 2,1 segundos para ler uma nuvem com 268879 pts."
   ]
  },
  {
   "cell_type": "code",
   "execution_count": 2,
   "metadata": {
    "colab": {},
    "colab_type": "code",
    "id": "Nt7b0AVJe_us",
    "scrolled": true
   },
   "outputs": [
    {
     "name": "stdout",
     "output_type": "stream",
     "text": [
      "[[ -53.03132588  185.44361056    0.65855475]\n",
      " [ -53.25012588  185.56861056    0.64455475]\n",
      " [ -53.45322588  185.63111056    0.65455475]\n",
      " ...\n",
      " [  51.87487412 -181.99388944   -2.18944525]\n",
      " [  51.59367412 -181.93138944   -2.22444525]\n",
      " [  51.29677412 -181.80638944   -2.20144525]]\n",
      "268879\n",
      "Tempo para ler a nuvem: 2.214\n"
     ]
    }
   ],
   "source": [
    "tempo_i = time.time()\n",
    "pc_numpy  = np.loadtxt('/home/rubens/rubens_virtual_enviroment/nuvens-LiDAR/nuvem_airborne-LiDAR_no_centroide.xyz', dtype='float', delimiter=',')\n",
    "tempo_f = time.time() - tempo_i\n",
    "print(pc_numpy)\n",
    "print(len(pc_numpy))\n",
    "print(\"Tempo para ler a nuvem: %.3f\" %tempo_f)"
   ]
  },
  {
   "cell_type": "markdown",
   "metadata": {},
   "source": [
    "# Import pela Pandas:"
   ]
  },
  {
   "cell_type": "markdown",
   "metadata": {},
   "source": [
    "Um data frame precisa de índices para nomear as colunas dos dados, então vamos nomear as colunas com os nomes x, y e z para que a primeira linha de coordenadas não seja interpretada como índices de colunas. A leitura é 10x mais rápida do que pela numpy."
   ]
  },
  {
   "cell_type": "code",
   "execution_count": 3,
   "metadata": {
    "colab": {},
    "colab_type": "code",
    "id": "TlUqfalWEgzK"
   },
   "outputs": [
    {
     "name": "stdout",
     "output_type": "stream",
     "text": [
      "                x           y         z\n",
      "0      -53.031326  185.443611  0.658555\n",
      "1      -53.250126  185.568611  0.644555\n",
      "2      -53.453226  185.631111  0.654555\n",
      "3      -53.672026  185.693611  0.650555\n",
      "4      -53.859426  185.756111  0.638555\n",
      "...           ...         ...       ...\n",
      "268874  52.421774 -182.181389 -2.223445\n",
      "268875  52.156174 -182.118889 -2.237445\n",
      "268876  51.874874 -181.993889 -2.189445\n",
      "268877  51.593674 -181.931389 -2.224445\n",
      "268878  51.296774 -181.806389 -2.201445\n",
      "\n",
      "[268879 rows x 3 columns]\n",
      "Tempo para ler a nuvem: 0.189\n"
     ]
    }
   ],
   "source": [
    "tempo_i = time.time()\n",
    "pc_pandas = pd.read_csv('/home/rubens/rubens_virtual_enviroment/nuvens-LiDAR/nuvem_airborne-LiDAR_no_centroide.xyz', names=[\"x\",\"y\",\"z\"])\n",
    "tempo_f = time.time() - tempo_i\n",
    "print(pc_pandas)\n",
    "type(pc_pandas)\n",
    "print(\"Tempo para ler a nuvem: %.3f\" %tempo_f)"
   ]
  },
  {
   "cell_type": "markdown",
   "metadata": {},
   "source": [
    "# Import pela Pyntcloud:"
   ]
  },
  {
   "cell_type": "markdown",
   "metadata": {},
   "source": [
    "Por trás da Pyntcloud roda a função read_csv da pandas para importar dados, mas a pyntcloud cria um objeto próprio. \n",
    "Precisamos que o dado esteja formatado com colunas que possuam nomes x, y e z. Isso é feito dando o argumento 'names'  à função de leitura da PyntCloud (que igual à read_csv da pandas). O tempo de leitura é semelhante também."
   ]
  },
  {
   "cell_type": "code",
   "execution_count": 4,
   "metadata": {
    "colab": {},
    "colab_type": "code",
    "id": "p1YzTESCE0aL"
   },
   "outputs": [
    {
     "name": "stdout",
     "output_type": "stream",
     "text": [
      "PyntCloud\n",
      "268879 points with 0 scalar fields\n",
      "0 faces in mesh\n",
      "0 kdtrees\n",
      "0 voxelgrids\n",
      "Centroid: 3.0625871847689797e-09, -4.6036352185236944e-11, 3.3030529579523296e-14\n",
      "Other attributes:\n",
      "\n",
      "Tempo para ler a nuvem: 0.198\n"
     ]
    }
   ],
   "source": [
    "tempo_i = time.time()\n",
    "pc_pyntcloud = pytc.from_file('/home/rubens/rubens_virtual_enviroment/nuvens-LiDAR/nuvem_airborne-LiDAR_no_centroide.xyz',names=[\"x\",\"y\",\"z\"])\n",
    "tempo_f = time.time() - tempo_i\n",
    "print(pc_pyntcloud)\n",
    "type(pc_pyntcloud)\n",
    "print(\"Tempo para ler a nuvem: %.3f\" %tempo_f)"
   ]
  },
  {
   "cell_type": "markdown",
   "metadata": {},
   "source": [
    "# Import pela Open3D:"
   ]
  },
  {
   "cell_type": "markdown",
   "metadata": {},
   "source": [
    "A Open3D consegue ler arquivos pcd, ply e ascii como: xyz, xyzrgb, xyzn e pts. Todavia, no caso dos tipos ascii, ela não consegue ler dados separados por vírgula. Podemos contornar isso utilizando a função da Open3d que lê a matriz numpy gerada anteriormente:"
   ]
  },
  {
   "cell_type": "code",
   "execution_count": 5,
   "metadata": {
    "colab": {},
    "colab_type": "code",
    "id": "tGqeOEUdEtXc"
   },
   "outputs": [
    {
     "name": "stdout",
     "output_type": "stream",
     "text": [
      "geometry::PointCloud with 268879 points.\n",
      "Tempo para ler a nuvem: 0.008\n"
     ]
    }
   ],
   "source": [
    "tempo_i = time.time()\n",
    "pc_open3d = o3d.geometry.PointCloud()\n",
    "pc_open3d.points = o3d.utility.Vector3dVector(pc_numpy)\n",
    "tempo_f = time.time() - tempo_i\n",
    "print(pc_open3d)\n",
    "type(pc_open3d)\n",
    "print(\"Tempo para ler a nuvem: %.3f\" %tempo_f)"
   ]
  },
  {
   "cell_type": "markdown",
   "metadata": {},
   "source": [
    "Ou, simplemente lendo a nuvem no formato pcd (é pelo menos 3x mais rápida que a Pandas):"
   ]
  },
  {
   "cell_type": "code",
   "execution_count": 6,
   "metadata": {},
   "outputs": [
    {
     "name": "stdout",
     "output_type": "stream",
     "text": [
      "geometry::PointCloud with 268879 points.\n",
      "Tempo para ler a nuvem: 0.068\n"
     ]
    }
   ],
   "source": [
    "tempo_i = time.time()\n",
    "pc_open3d = o3d.io.read_point_cloud(\"/home/rubens/rubens_virtual_enviroment/nuvens-LiDAR/nuvem_airborne-LiDAR_no_centroide.pcd\")\n",
    "tempo_f = time.time() - tempo_i\n",
    "print(pc_open3d)\n",
    "type(pc_open3d)\n",
    "print(\"Tempo para ler a nuvem: %.3f\" %tempo_f)"
   ]
  },
  {
   "cell_type": "markdown",
   "metadata": {
    "colab_type": "text",
    "id": "VLYur3y1MN9u"
   },
   "source": [
    "# Visualização com a PyntCloud: "
   ]
  },
  {
   "cell_type": "markdown",
   "metadata": {},
   "source": [
    "A visualização da pyntcloud aparece com os pontos em tamanhos exagerados, mas é possível alterar isso facilmente e por algum valor entre 0 e 1 para que a nuvem apareça normalmente. Não funciona no colab, ele desconectará assim que rodarmos o seguinte comando:"
   ]
  },
  {
   "cell_type": "code",
   "execution_count": 7,
   "metadata": {
    "colab": {},
    "colab_type": "code",
    "id": "uMNYlBU9MNjY"
   },
   "outputs": [
    {
     "name": "stderr",
     "output_type": "stream",
     "text": [
      "/home/rubens/.local/lib/python3.6/site-packages/pythreejs/traits.py:191: UserWarning: 64-bit data types not supported for WebGL data, casting to 32-bit.\n",
      "  warnings.warn('64-bit data types not supported for WebGL '\n"
     ]
    },
    {
     "data": {
      "application/vnd.jupyter.widget-view+json": {
       "model_id": "7a7d82a1f4124fc3af7007ae4528750c",
       "version_major": 2,
       "version_minor": 0
      },
      "text/plain": [
       "Renderer(camera=PerspectiveCamera(aspect=1.6, fov=90.0, position=(3.0625871847689797e-09, 185.75611055521347, …"
      ]
     },
     "metadata": {},
     "output_type": "display_data"
    },
    {
     "data": {
      "application/vnd.jupyter.widget-view+json": {
       "model_id": "3a4ed3d8b5924669bd7bc7cc831503e1",
       "version_major": 2,
       "version_minor": 0
      },
      "text/plain": [
       "HBox(children=(Label(value='Point size:'), FloatSlider(value=36.8875, max=368.875, step=0.368875), Label(value…"
      ]
     },
     "metadata": {},
     "output_type": "display_data"
    }
   ],
   "source": [
    "pc_pyntcloud.plot()"
   ]
  },
  {
   "cell_type": "markdown",
   "metadata": {},
   "source": [
    "# Visualização com a ipyVolume: "
   ]
  },
  {
   "cell_type": "markdown",
   "metadata": {},
   "source": [
    "A ipyVolume permite animações e muitos outros recursos da ipywidgets incorporados na sua implementação.\n",
    "Todavia, a renderização é mais complexa e pode ficar lenta dependendo do seu hardware. Para plotar os pontos precisamos das colunas da matriz numpy:"
   ]
  },
  {
   "cell_type": "code",
   "execution_count": 8,
   "metadata": {
    "colab": {},
    "colab_type": "code",
    "id": "1r3FTVjKZP37"
   },
   "outputs": [
    {
     "data": {
      "application/vnd.jupyter.widget-view+json": {
       "model_id": "545eea25ff014afd8ff755a690b60ed4",
       "version_major": 2,
       "version_minor": 0
      },
      "text/plain": [
       "VBox(children=(Figure(camera=PerspectiveCamera(fov=46.0, position=(0.0, 0.0, 2.0), quaternion=(0.0, 0.0, 0.0, …"
      ]
     },
     "metadata": {},
     "output_type": "display_data"
    }
   ],
   "source": [
    "x = pc_numpy[:,0];y = pc_numpy[:,1];z = pc_numpy[:,2]\n",
    "ipv.quickscatter(x, y, z, size=0.5, marker=\"sphere\")"
   ]
  },
  {
   "cell_type": "markdown",
   "metadata": {
    "colab": {},
    "colab_type": "code",
    "id": "w3Ot9f4QyMGh"
   },
   "source": [
    "# Visualização com a Open3d: "
   ]
  },
  {
   "cell_type": "markdown",
   "metadata": {},
   "source": [
    "A Open3d não suporta visualizações dentro de cadernos jupyter, mas mesmo assim desenha a nuvem em uma janela a parte. Essa nuvem não aparece se os dados estiverem em coordenadas UTM."
   ]
  },
  {
   "cell_type": "code",
   "execution_count": 9,
   "metadata": {
    "colab": {},
    "colab_type": "code",
    "id": "2TTdAyJ2yXDI"
   },
   "outputs": [],
   "source": [
    "o3d.visualization.draw_geometries([pc_open3d])"
   ]
  },
  {
   "cell_type": "markdown",
   "metadata": {},
   "source": [
    "# Kd-trees & Octrees: Pytncloud"
   ]
  },
  {
   "cell_type": "markdown",
   "metadata": {},
   "source": [
    "Kd-trees e octrees são estruturas muito utilizadas quando manipulamos nuvens de pontos. A maioria dos filtros e diversas outras funcionalidades necessitam de kd-trees e octrees para funcionar. O nome tree (árvore) se deve à forma como o objeto é criado através de subdivisões do espaço. Apenas as bibliotecas Open3D e Pyncloud, específicas para nuvens de pontos, trabalham com este objeto."
   ]
  },
  {
   "cell_type": "markdown",
   "metadata": {},
   "source": [
    "No exemplo abaixo utilizamos uma kd-tree para selecionar os k vizinhos mais próximos de cada ponto da nuvem. A estrutura gerada é uma matriz com k colunas com os índices dos pts mais próximos."
   ]
  },
  {
   "cell_type": "code",
   "execution_count": 12,
   "metadata": {},
   "outputs": [
    {
     "name": "stdout",
     "output_type": "stream",
     "text": [
      "[[     8      1      7      2      6      3]\n",
      " [     7      8      2      0      6      3]\n",
      " [     6      7      1      3      5      8]\n",
      " ...\n",
      " [268847 268848 268877 268875 268846 268849]\n",
      " [268846 268847 268876 268878 268845 268848]\n",
      " [268845 268846 268877 268844 268847 268876]]\n"
     ]
    }
   ],
   "source": [
    "# Adicionar estrutura kdtree na nuvem:\n",
    "kdtree_pyntcloud = pc_pyntcloud.add_structure(\"kdtree\")\n",
    "# Guardar k vizinhos de cada ponto:\n",
    "k_vizinhos = pc_pyntcloud.get_neighbors(k=6,kdtree=kdtree_pyntcloud)\n",
    "print(k_vizinhos)"
   ]
  },
  {
   "cell_type": "markdown",
   "metadata": {},
   "source": [
    "A função abaixo permite subdividir o espaço ocupado pela nuvem com uma octree. Os parâmetros da subdivisão podem ser a quantidade de voxels finais desejados em cada eixo (n_x=1, n_y=1, n_z=1) ou o tamanho dos voxels criados em cada eixo (size_x=1.0, size_y=1.0, size_z=1.0). Colocar valores pequenos nos tamanhos (abaixo de 0.5) ou muito grandes nas quantidades finais (acima de 100) costuma travar o Jupyter por falta de memória. Setar 'None' nos tamanhos se quiser usar as quantidades."
   ]
  },
  {
   "cell_type": "code",
   "execution_count": 13,
   "metadata": {},
   "outputs": [
    {
     "name": "stdout",
     "output_type": "stream",
     "text": [
      "V([369, 369, 369],[1.0, 1.0, 1.0],True)\n"
     ]
    }
   ],
   "source": [
    "# Adicionar octree na nuvem importada com a Pyntcloud\n",
    "voxelgrid_pyntcloud = pc_pyntcloud.add_structure(\"voxelgrid\", n_x=1, n_y=1, n_z=1, size_x=1.0, size_y=1.0, size_z=1.0)\n",
    "print(voxelgrid_pyntcloud)"
   ]
  },
  {
   "cell_type": "markdown",
   "metadata": {},
   "source": [
    "# Kd-trees & Octrees: Open3D"
   ]
  },
  {
   "cell_type": "markdown",
   "metadata": {},
   "source": [
    "Kdtrees na Open3D são implementadas utilizando o algoritmo FLANN (Fast Library for Approximate Nearest Neighbors). Diferente da pyntcloud, esse algoritmo não procura todos os pontos mais pŕoximos por força bruta."
   ]
  },
  {
   "cell_type": "code",
   "execution_count": 14,
   "metadata": {},
   "outputs": [],
   "source": [
    "# Pinta a nuvem de amarelo:\n",
    "pc_open3d.paint_uniform_color([0.8, 0.8, 0])\n",
    "\n",
    "# Cria a kd-tree na nuvem usando flann:\n",
    "pcd_tree = o3d.geometry.KDTreeFlann(pc_open3d)\n",
    "\n",
    "# Pinta o ponto de indice 100000 de vermelho:\n",
    "pc_open3d.colors[100000] = [1, 0, 0]\n",
    "\n",
    "# Procura os 1000 pontos vizinhos do ponto anterior:\n",
    "[k, idx, _] = pcd_tree.search_knn_vector_3d(pc_open3d.points[100000],1000)\n",
    "\n",
    "# Pinta os vizinhos de azul:\n",
    "np.asarray(pc_open3d.colors)[idx[1:], :] = [0, 0, 1]\n",
    "\n",
    "# Encontra os vizinhos com distância menor que 5 m:\n",
    "[k, idx, _] = pcd_tree.search_radius_vector_3d(pc_open3d.points[100000],5.0)\n",
    "\n",
    "# Pinta os vizinhos dentro dos 5 m de preto:\n",
    "np.asarray(pc_open3d.colors)[idx[1:], :] = [0, 0, 0]\n",
    "\n",
    "# Plota a nuvem:\n",
    "o3d.visualization.draw_geometries([pc_open3d])"
   ]
  },
  {
   "cell_type": "markdown",
   "metadata": {},
   "source": [
    "A linha baixo cria uma octree com 64 voxels utilizando a Open3D, para isso ela divide um cubo de 1 m³ centrado em [0,0,0] em cubos menores de 0.25 m de largura, o que dá 4x4x4 voxels."
   ]
  },
  {
   "cell_type": "code",
   "execution_count": 15,
   "metadata": {},
   "outputs": [
    {
     "data": {
      "text/plain": [
       "geometry::VoxelGrid with 64 voxels."
      ]
     },
     "execution_count": 15,
     "metadata": {},
     "output_type": "execute_result"
    }
   ],
   "source": [
    "o3d.geometry.VoxelGrid.create_dense([0.0,0.0,0.0],0.25, 1, 1, 1)"
   ]
  },
  {
   "cell_type": "markdown",
   "metadata": {},
   "source": [
    "# Voxialização"
   ]
  },
  {
   "cell_type": "markdown",
   "metadata": {},
   "source": [
    "Quando temos uma nuvem muito grande é coveniente que se faça uma voxialização para reduzir seu tamanho. Além de deixá-la com densidade uniforme, essa operação consegue reduzir a quantidade de pontos preservando a forma dos objetos. Para o registro a voxialização é crítica pois a operação demanda tempo exponencialmente maior de acordo com o tamanho da nuvem."
   ]
  },
  {
   "cell_type": "markdown",
   "metadata": {},
   "source": [
    "Para a voxialização vamos usar a estrutura voxelgrid criada anteriormente com a pyntcloud (voxels com 1m³ de tamanho)\n"
   ]
  },
  {
   "cell_type": "code",
   "execution_count": 16,
   "metadata": {},
   "outputs": [
    {
     "name": "stdout",
     "output_type": "stream",
     "text": [
      "PyntCloud\n",
      "83736 points with 0 scalar fields\n",
      "0 faces in mesh\n",
      "0 kdtrees\n",
      "0 voxelgrids\n",
      "Centroid: 0.8215575814247131, 0.8175594210624695, 0.24738658964633942\n",
      "Other attributes:\n",
      "\n"
     ]
    },
    {
     "data": {
      "application/vnd.jupyter.widget-view+json": {
       "model_id": "4c7d23b11ce6414f9cde294651d0322b",
       "version_major": 2,
       "version_minor": 0
      },
      "text/plain": [
       "Renderer(camera=PerspectiveCamera(aspect=1.6, fov=90.0, position=(0.8215575814247131, 186.13616293668747, 33.9…"
      ]
     },
     "metadata": {},
     "output_type": "display_data"
    },
    {
     "data": {
      "application/vnd.jupyter.widget-view+json": {
       "model_id": "43f191854a56435986cdc87e68fb8b1c",
       "version_major": 2,
       "version_minor": 0
      },
      "text/plain": [
       "HBox(children=(Label(value='Point size:'), FloatSlider(value=36.8, max=368.0, step=0.368), Label(value='Backgr…"
      ]
     },
     "metadata": {},
     "output_type": "display_data"
    }
   ],
   "source": [
    "pc_voxializada_pyntcloud = pc_pyntcloud.get_sample(name='voxelgrid_centers',as_PyntCloud=True,voxelgrid_id=voxelgrid_pyntcloud)\n",
    "print(pc_voxializada_pyntcloud)\n",
    "# Desenhar nuvem voxializada:\n",
    "pc_voxializada_pyntcloud.plot()"
   ]
  },
  {
   "cell_type": "markdown",
   "metadata": {},
   "source": [
    "A open3d faz a voxialização direto na nuvem, recebe como parâmetro apenas o tamanho do voxel, quanto maior, menos pontos na nuvem final:"
   ]
  },
  {
   "cell_type": "code",
   "execution_count": 17,
   "metadata": {},
   "outputs": [],
   "source": [
    "pc_voxializada_open3d = pc_open3d.voxel_down_sample(voxel_size=1.0)\n",
    "o3d.visualization.draw_geometries([pc_voxializada_open3d])"
   ]
  },
  {
   "cell_type": "code",
   "execution_count": 18,
   "metadata": {},
   "outputs": [
    {
     "name": "stdout",
     "output_type": "stream",
     "text": [
      "geometry::PointCloud with 82319 points.\n"
     ]
    }
   ],
   "source": [
    "print(pc_voxializada_open3d)"
   ]
  },
  {
   "cell_type": "markdown",
   "metadata": {},
   "source": [
    "# Filtragem"
   ]
  },
  {
   "cell_type": "markdown",
   "metadata": {},
   "source": [
    "Filtragens são feitas considerando uma vizinhança mínima que deve existir ao redor de um ponto. Essa vizinhança pode ser definida como um raio geométrico ao redor do ponto ou por um desvio-padrão. No primeiro caso temos o filtro por raio, no segundo o filtro estatístico. Recomenda-se fazer a filtragem sempre após a voxialização."
   ]
  },
  {
   "cell_type": "markdown",
   "metadata": {},
   "source": [
    "A filtragem utiliza kd-trees para encontrar vizinhos mais próximos, na pyntcloud precisamos construir a kd-tree da nuvem voxializada que será filtrada:"
   ]
  },
  {
   "cell_type": "code",
   "execution_count": 19,
   "metadata": {},
   "outputs": [],
   "source": [
    "kdtree_filtragem = pc_voxializada_pyntcloud.add_structure(\"kdtree\")"
   ]
  },
  {
   "cell_type": "code",
   "execution_count": 20,
   "metadata": {},
   "outputs": [
    {
     "name": "stdout",
     "output_type": "stream",
     "text": [
      "[[0.         1.00221252 1.41577892 1.41577892 1.41739923 2.00440979]\n",
      " [0.         1.         1.00219727 1.41576812 1.41576812 1.41577892]\n",
      " [0.         1.         1.         1.00219727 1.00221252 1.00229269]\n",
      " ...\n",
      " [0.         1.         1.         1.00219727 1.41576812 1.41576812]\n",
      " [0.         1.         1.00219727 1.41576812 2.         2.00440979]\n",
      " [0.         1.00219727 1.41576812 1.41576812 2.00439453 2.23705149]]\n",
      "pontos filtrados: 3677\n"
     ]
    }
   ],
   "source": [
    "# RADIOS OUTLIER REMOVAL.\n",
    "# ENTRADAS: r=raio, k=nº_de_vizinhos, kdtree_id;   \n",
    "# SAÍDAS: índices dos pontos filtrados.\n",
    "idx = pc_voxializada_pyntcloud.get_filter(name='ROR',k=6,r=1.5,kdtree_id=kdtree_filtragem)\n",
    "\n",
    "pts_filtrados = len(idx)-sum(idx)\n",
    "print(\"pontos filtrados: %d\" %pts_filtrados)"
   ]
  },
  {
   "cell_type": "code",
   "execution_count": 21,
   "metadata": {},
   "outputs": [
    {
     "name": "stdout",
     "output_type": "stream",
     "text": [
      "[ 1.74350599  0.66420449 -0.66907319 ...  0.21815981  1.92244333\n",
      "  2.62276719]\n",
      "pontos filtrados: 3101\n"
     ]
    }
   ],
   "source": [
    "# STATISTIICAL OUTLIER REMOVAL.\n",
    "# ENTRADAS: z_max=desvio_padrao, k=nº_de_vizinhos, kdtree_id;   \n",
    "# SAÍDAS: índices dos pontos filtrados.\n",
    "idx = pc_voxializada_pyntcloud.get_filter(name='SOR',k=6,z_max=1.2,kdtree_id=kdtree_filtragem)\n",
    "\n",
    "pts_filtrados = len(idx)-sum(idx)\n",
    "print(\"pontos filtrados: %d\" %pts_filtrados)"
   ]
  },
  {
   "cell_type": "markdown",
   "metadata": {},
   "source": [
    "Os mesmos filtros aplicados na mesma nuvem com os mesmos parâmetros produzem resultados diferentes na Open3D. Isso ocorre porque como mencionado anteriormente, o algoritmo da kd-tree é diferente. Além disso, as voxializações produziram nuvens com quantidades de pontos ligeiramente diferentes, mesmo que o tamanho do voxel utilizado tenha sido o mesmo."
   ]
  },
  {
   "cell_type": "code",
   "execution_count": 22,
   "metadata": {},
   "outputs": [
    {
     "name": "stdout",
     "output_type": "stream",
     "text": [
      "geometry::PointCloud with 79704 points.\n",
      "Pontos filtrados utilizando um raio de 1.8 m: 2615\n"
     ]
    }
   ],
   "source": [
    "# FILTRO POR RAIO.\n",
    "# ENTRADAS: Raio e Quantidade mínima de pontos.\n",
    "# SAÍDAS: nuvem filtrada e índices desses pontos.\n",
    "pc_filtrada_raio, ind = pc_voxializada_open3d.remove_radius_outlier(nb_points=6, radius=1.8)\n",
    "print(pc_filtrada_raio)\n",
    "\n",
    "pts_filtrados = len(pc_voxializada_open3d.points)-len(pc_filtrada_raio.points)\n",
    "print(\"Pontos filtrados utilizando um raio de 1.8 m: %d\" %pts_filtrados)"
   ]
  },
  {
   "cell_type": "code",
   "execution_count": 23,
   "metadata": {},
   "outputs": [
    {
     "name": "stdout",
     "output_type": "stream",
     "text": [
      "geometry::PointCloud with 79634 points.\n",
      "Pontos filtrados utilizando 1 desvio-padrão: 2685\n"
     ]
    }
   ],
   "source": [
    "# FILTRO ESTATÍTISTICO.\n",
    "# ENTRADAS: Desvio-Padrão e Quantidade mínima de pontos.\n",
    "# SAÍDAS: nuvem filtrada e índices desses pontos.\n",
    "pc_filtrada_estat, ind = pc_voxializada_open3d.remove_statistical_outlier(nb_neighbors=6, std_ratio=1.0)\n",
    "print(pc_filtrada_estat)\n",
    "\n",
    "pts_filtrados = len(pc_voxializada_open3d.points)-len(pc_filtrada_estat.points)\n",
    "print(\"Pontos filtrados utilizando 1 desvio-padrão: %d\" %pts_filtrados)"
   ]
  },
  {
   "cell_type": "markdown",
   "metadata": {},
   "source": [
    "Por algum motivo desconhecido a função 'select_down_sample' faz o Kernel do jupyter parar de funcionar, como nenhuma informação retorna, não tem-se como investigar o erro. Portanto, infelizmente não conseguiremos mostrar as duas nuvens (inliers e outliers) com a célula abaixo (rodar ela irá parar o Kernel):"
   ]
  },
  {
   "cell_type": "code",
   "execution_count": null,
   "metadata": {},
   "outputs": [],
   "source": [
    "# Separa as duas nuvens em pontos restantes (inliers) e removidos (outliers)\n",
    "pontos_restantes = pc_filtrada_estat.select_down_sample(ind)\n",
    "pontos_removidos = pc_filtrada_estat.select_down_sample(ind, invert=True)\n",
    "\n",
    "# Coloca cores diferentes nas nuvens:\n",
    "pontos_restantes.paint_uniform_color([1,0,0])       # Inliers  -> vermelho\n",
    "pontos_removidos.paint_uniform_color([0.8,0.8,0.8]) # outliers -> cinza\n",
    "\n",
    "# Desenhar as duas nuvens\n",
    "o3d.visualization.draw_geometries([pontos_restantes, pontos_removidos])"
   ]
  },
  {
   "cell_type": "markdown",
   "metadata": {},
   "source": [
    "# Registro de pares de nuvens de pontos"
   ]
  },
  {
   "cell_type": "markdown",
   "metadata": {},
   "source": [
    "Apenas a Open3D tem funções implementadas para fazer o registro de nuvens de pontos. Essas funções se subdividem em registros globais para alinhamento inicial e registros finos, que consistem em variações do ICP (Iterative Closest Point). O registro é simplesmente o alinhamento de duas nuvens no mesmo referencial, portanto, a sua saída é uma matriz de transformação que inclui uma rotação e uma translação em uma única matriz 4x4."
   ]
  },
  {
   "cell_type": "markdown",
   "metadata": {},
   "source": [
    "Para efetuar o registro precisamos de duas nuvens, das normais dos pontos e dos descritores dos pontos. E para o cálculo das normais e dos descritores precisamos da kd-tree. A seguir fazemos todo o pre-processamento:"
   ]
  },
  {
   "cell_type": "code",
   "execution_count": 110,
   "metadata": {},
   "outputs": [
    {
     "name": "stdout",
     "output_type": "stream",
     "text": [
      "geometry::PointCloud with 10166 points.\n",
      "geometry::PointCloud with 12376 points.\n",
      "registration::Feature class with dimension = 33 and num = 10166\n",
      "Access its data via data member.\n",
      "registration::Feature class with dimension = 33 and num = 12376\n",
      "Access its data via data member.\n"
     ]
    }
   ],
   "source": [
    "# Importar duas nuvens com sobreposição e posições translocadas/rotacionadas:\n",
    "pc_open3d_1 = o3d.io.read_point_cloud(\"/home/rubens/rubens_virtual_enviroment/nuvens-LiDAR/nuvem_airborne-LiDAR_transladada-1.pcd\")\n",
    "pc_open3d_2 = o3d.io.read_point_cloud(\"/home/rubens/rubens_virtual_enviroment/nuvens-LiDAR/nuvem_airborne-LiDAR_transladada-2.pcd\")\n",
    "\n",
    "# Voxializar as nuvens:\n",
    "pc_voxializada_1 = pc_open3d_1.voxel_down_sample(voxel_size=0.1)\n",
    "pc_voxializada_2 = pc_open3d_2.voxel_down_sample(voxel_size=0.1)\n",
    "\n",
    "# Filtrar as nuvens (filtro estatístico):\n",
    "pc_filtrada_1, ind = pc_voxializada_1.remove_statistical_outlier(nb_neighbors=6, std_ratio=1.0)\n",
    "pc_filtrada_2, ind = pc_voxializada_2.remove_statistical_outlier(nb_neighbors=6, std_ratio=1.0)\n",
    "\n",
    "# Construir kd-tree para calcular normais (30 cm) e outra para calcular descritores (5 m):\n",
    "kd_tree_normais     = o3d.geometry.KDTreeSearchParamHybrid(radius=0.2, max_nn=20)\n",
    "kd_tree_descritores = o3d.geometry.KDTreeSearchParamHybrid(radius=0.5, max_nn=30)\n",
    "\n",
    "# Calcular normais das nuvens:\n",
    "normais_1 = pc_filtrada_1.estimate_normals(kd_tree_normais)\n",
    "normais_2 = pc_filtrada_2.estimate_normals(kd_tree_normais)\n",
    "\n",
    "# Calcular descritores das nuvens:\n",
    "pc_fpfh_1 = o3d.registration.compute_fpfh_feature(pc_filtrada_1,kd_tree_descritores)\n",
    "pc_fpfh_2 = o3d.registration.compute_fpfh_feature(pc_filtrada_2,kd_tree_descritores)\n",
    "\n",
    "print(pc_filtrada_1)\n",
    "print(pc_filtrada_2)\n",
    "print(pc_fpfh_1)\n",
    "print(pc_fpfh_2)\n",
    "pc_filtrada_1.paint_uniform_color([0.2, 0.9, 0.2])\n",
    "pc_filtrada_2.paint_uniform_color([0.2, 0.2, 0.9])\n",
    "o3d.visualization.draw_geometries([pc_filtrada_1,pc_filtrada_2])"
   ]
  },
  {
   "cell_type": "code",
   "execution_count": 111,
   "metadata": {},
   "outputs": [],
   "source": [
    "# Função para desenhar o resultado do registro com duas cores diferentes para cada nuvem\n",
    "def draw_registration_result(source, target, transformation):\n",
    "    source_temp = copy.deepcopy(source)\n",
    "    target_temp = copy.deepcopy(target)\n",
    "    source_temp.paint_uniform_color([0.2, 0.9, 0.2])\n",
    "    target_temp.paint_uniform_color([0.2, 0.2, 0.9])\n",
    "    source_temp.transform(transformation)\n",
    "    o3d.visualization.draw_geometries([source_temp, target_temp])"
   ]
  },
  {
   "cell_type": "code",
   "execution_count": 112,
   "metadata": {},
   "outputs": [],
   "source": [
    "# Limites de convergência do registro = tamanho do voxel utilizado\n",
    "# O registro é avaliado contando quantos pontos entre as nuvens estão\n",
    "# abaixo dessa distância  \n",
    "limite_distancia = 0.1\n",
    "\n",
    "# Verificar se as nomais dos pontos correspondentes entre a nuvem de origem e destino \n",
    "# são semelhantes. Parâmetro em radianos: 0,17 rad = 10 graus, significa que pontos\n",
    "# homlólogos com normais divergindo acima desse limiar não serão considerados no registro\n",
    "limiar_normal = o3d.registration.CorrespondenceCheckerBasedOnNormal(0.17)\n",
    "\n",
    "# Definir o tipo de registro: (ICP ponto-plano)\n",
    "tipo_registro = o3d.registration.TransformationEstimationPointToPlane()\n",
    "\n",
    "# Definir parâmetros do algoritmo RANSAC: amostragem mínima de pontos e parada\n",
    "ransac_n = 4\n",
    "criterio_parada_RANSAC = o3d.registration.RANSACConvergenceCriteria(4000000, 500)"
   ]
  },
  {
   "cell_type": "markdown",
   "metadata": {},
   "source": [
    "# Registro Global 1: RANSAC BASED ON FEATURE MATCH"
   ]
  },
  {
   "cell_type": "code",
   "execution_count": 113,
   "metadata": {},
   "outputs": [
    {
     "name": "stdout",
     "output_type": "stream",
     "text": [
      "registration::RegistrationResult with fitness = 0.000590, inlier_rmse = 0.065582, and correspondence_set size of 6\n",
      "Access transformation to get result.\n"
     ]
    },
    {
     "data": {
      "text/plain": [
       "array([[ 9.98250294e-01, -3.33876498e-03,  5.90356062e-02,\n",
       "         0.00000000e+00],\n",
       "       [-2.16840434e-19,  9.98404586e-01,  5.64648774e-02,\n",
       "         0.00000000e+00],\n",
       "       [-5.91299429e-02, -5.63660805e-02,  9.96657672e-01,\n",
       "         1.12470994e+01],\n",
       "       [ 0.00000000e+00,  0.00000000e+00,  0.00000000e+00,\n",
       "         1.00000000e+00]])"
      ]
     },
     "execution_count": 113,
     "metadata": {},
     "output_type": "execute_result"
    }
   ],
   "source": [
    "resultado_RANSAC = o3d.registration.registration_ransac_based_on_feature_matching(pc_filtrada_1,\n",
    "                                                                                  pc_filtrada_2,\n",
    "                                                                                  pc_fpfh_1,\n",
    "                                                                                  pc_fpfh_2,\n",
    "                                                                                  limite_distancia,\n",
    "                                                                                  tipo_registro,\n",
    "                                                                                  ransac_n,\n",
    "                                                                                  [limiar_normal],\n",
    "                                                                                  criterio_parada_RANSAC)\n",
    "print(resultado_RANSAC)\n",
    "# Desenhar nuven 1 registrada na nuvem 2:\n",
    "draw_registration_result(pc_filtrada_1, pc_filtrada_2,resultado_RANSAC.transformation)\n",
    "resultado_RANSAC.transformation"
   ]
  },
  {
   "cell_type": "markdown",
   "metadata": {},
   "source": [
    "# Registro Global 2: FAST-GLOBAL-REGISTRATION (ZHOU, 2016)"
   ]
  },
  {
   "cell_type": "code",
   "execution_count": 126,
   "metadata": {},
   "outputs": [
    {
     "name": "stdout",
     "output_type": "stream",
     "text": [
      "registration::RegistrationResult with fitness = 0.000000, inlier_rmse = 0.000000, and correspondence_set size of 0\n",
      "Access transformation to get result.\n"
     ]
    },
    {
     "data": {
      "text/plain": [
       "array([[ -0.16902804,  -0.85284256,   0.49405374,  32.58919827],\n",
       "       [ -0.80387037,   0.40932615,   0.43156059, -29.17964453],\n",
       "       [ -0.57028235,  -0.32420932,  -0.75476246,  14.12702063],\n",
       "       [  0.        ,   0.        ,  -0.        ,   1.        ]])"
      ]
     },
     "execution_count": 126,
     "metadata": {},
     "output_type": "execute_result"
    }
   ],
   "source": [
    "# Definir parâmetros do registro FGR\n",
    "registro_FGR = o3d.registration.FastGlobalRegistrationOption(division_factor = 0.3,        # padrão: 1.4 \n",
    "                                                             use_absolute_scale = True,    # padrão: False\n",
    "                                                             decrease_mu = True,           # padrão: False\n",
    "                                                             maximum_correspondence_distance = 0.15,\n",
    "                                                             iteration_number = 640,       # padrão: 64\n",
    "                                                             maximum_tuple_count = 5000,   # padrão: 500\n",
    "                                                             tuple_scale = 0.9)           # padrão: 0.95)  \n",
    "# Executar registro FGR\n",
    "resultado_FGR = o3d.registration.registration_fast_based_on_feature_matching(pc_filtrada_1,\n",
    "                                                                             pc_filtrada_2, \n",
    "                                                                             pc_fpfh_1,\n",
    "                                                                             pc_fpfh_2,\n",
    "                                                                             registro_FGR)\n",
    "\n",
    "# Desenhar nuven=m 1 registrada na nuvem 2\n",
    "draw_registration_result(pc_filtrada_1, pc_filtrada_2, resultado_FGR.transformation)\n",
    "print(resultado_FGR)\n",
    "resultado_FGR.transformation"
   ]
  },
  {
   "cell_type": "markdown",
   "metadata": {},
   "source": [
    "# Refinamento do registro global 1 por ICP-PONTO-PONTO"
   ]
  },
  {
   "cell_type": "code",
   "execution_count": 128,
   "metadata": {
    "colab": {},
    "colab_type": "code",
    "id": "n0kAhJUBWsUv"
   },
   "outputs": [
    {
     "name": "stdout",
     "output_type": "stream",
     "text": [
      "registration::RegistrationResult with fitness = 0.000689, inlier_rmse = 0.061060, and correspondence_set size of 7\n",
      "Access transformation to get result.\n"
     ]
    },
    {
     "data": {
      "text/plain": [
       "array([[ 0.98324976,  0.0601479 , -0.17205275, -0.75514635],\n",
       "       [-0.04828534,  0.99621173,  0.07232374,  0.7489775 ],\n",
       "       [ 0.17575109, -0.06280468,  0.9824292 ,  7.87681687],\n",
       "       [ 0.        ,  0.        ,  0.        ,  1.        ]])"
      ]
     },
     "execution_count": 128,
     "metadata": {},
     "output_type": "execute_result"
    }
   ],
   "source": [
    "limite = 0.1\n",
    "tipo_registro = o3d.registration.TransformationEstimationPointToPoint()\n",
    "reg_p2p = o3d.registration.registration_icp(pc_filtrada_1,\n",
    "                                            pc_filtrada_2,\n",
    "                                            limite, \n",
    "                                            resultado_RANSAC.transformation,\n",
    "                                            tipo_registro)\n",
    "draw_registration_result(pc_filtrada_1, pc_filtrada_2, reg_p2p.transformation)\n",
    "print(reg_p2p)\n",
    "reg_p2p.transformation"
   ]
  },
  {
   "cell_type": "markdown",
   "metadata": {},
   "source": [
    "# Refinamento do registro global 1 por ICP-PONTO-PLANO"
   ]
  },
  {
   "cell_type": "code",
   "execution_count": 129,
   "metadata": {
    "colab": {},
    "colab_type": "code",
    "id": "a6VKKaXu8hB3"
   },
   "outputs": [
    {
     "name": "stdout",
     "output_type": "stream",
     "text": [
      "registration::RegistrationResult with fitness = 0.000000, inlier_rmse = 0.000000, and correspondence_set size of 0\n",
      "Access transformation to get result.\n"
     ]
    },
    {
     "data": {
      "text/plain": [
       "array([[ 9.98250294e-01, -3.33876498e-03,  5.90356062e-02,\n",
       "         0.00000000e+00],\n",
       "       [-2.16840434e-19,  9.98404586e-01,  5.64648774e-02,\n",
       "         0.00000000e+00],\n",
       "       [-5.91299429e-02, -5.63660805e-02,  9.96657672e-01,\n",
       "         1.12470994e+01],\n",
       "       [ 0.00000000e+00,  0.00000000e+00,  0.00000000e+00,\n",
       "         1.00000000e+00]])"
      ]
     },
     "execution_count": 129,
     "metadata": {},
     "output_type": "execute_result"
    }
   ],
   "source": [
    "# ICP PONTO-PLANO\n",
    "limite = 0.01\n",
    "tipo_registro = o3d.registration.TransformationEstimationPointToPlane()\n",
    "reg_p2l = o3d.registration.registration_icp(pc_filtrada_1,\n",
    "                                            pc_filtrada_2,\n",
    "                                            limite, \n",
    "                                            resultado_RANSAC.transformation,\n",
    "                                            tipo_registro)\n",
    "draw_registration_result(pc_filtrada_1, pc_filtrada_2, reg_p2l.transformation)\n",
    "print(reg_p2l)\n",
    "reg_p2l.transformation"
   ]
  },
  {
   "cell_type": "markdown",
   "metadata": {},
   "source": [
    "# Refinamento do registro global 2 por ICP-PONTO-PONTO"
   ]
  },
  {
   "cell_type": "code",
   "execution_count": 130,
   "metadata": {},
   "outputs": [
    {
     "name": "stdout",
     "output_type": "stream",
     "text": [
      "registration::RegistrationResult with fitness = 0.000000, inlier_rmse = 0.000000, and correspondence_set size of 0\n",
      "Access transformation to get result.\n"
     ]
    },
    {
     "data": {
      "text/plain": [
       "array([[ -0.16902804,  -0.85284256,   0.49405374,  32.58919827],\n",
       "       [ -0.80387037,   0.40932615,   0.43156059, -29.17964453],\n",
       "       [ -0.57028235,  -0.32420932,  -0.75476246,  14.12702063],\n",
       "       [  0.        ,   0.        ,   0.        ,   1.        ]])"
      ]
     },
     "execution_count": 130,
     "metadata": {},
     "output_type": "execute_result"
    }
   ],
   "source": [
    "limite_distancia = 0.01\n",
    "tipo_registro = o3d.registration.TransformationEstimationPointToPoint()\n",
    "resultado_icp = o3d.registration.registration_icp(pc_filtrada_1,\n",
    "                                                  pc_filtrada_2, \n",
    "                                                  limite_distancia,\n",
    "                                                  resultado_FGR.transformation,\n",
    "                                                  tipo_registro)\n",
    "print(resultado_icp)\n",
    "draw_registration_result(pc_filtrada_1, pc_filtrada_2, resultado_icp.transformation)\n",
    "resultado_icp.transformation"
   ]
  },
  {
   "cell_type": "markdown",
   "metadata": {},
   "source": [
    "# Refinamento do registro global 2 por ICP-PONTO-PLANO"
   ]
  },
  {
   "cell_type": "code",
   "execution_count": 131,
   "metadata": {},
   "outputs": [
    {
     "name": "stdout",
     "output_type": "stream",
     "text": [
      "registration::RegistrationResult with fitness = 0.000000, inlier_rmse = 0.000000, and correspondence_set size of 0\n",
      "Access transformation to get result.\n"
     ]
    },
    {
     "data": {
      "text/plain": [
       "array([[ -0.16902804,  -0.85284256,   0.49405374,  32.58919827],\n",
       "       [ -0.80387037,   0.40932615,   0.43156059, -29.17964453],\n",
       "       [ -0.57028235,  -0.32420932,  -0.75476246,  14.12702063],\n",
       "       [  0.        ,   0.        ,   0.        ,   1.        ]])"
      ]
     },
     "execution_count": 131,
     "metadata": {},
     "output_type": "execute_result"
    }
   ],
   "source": [
    "limite_distancia = 0.01\n",
    "tipo_registro = o3d.registration.TransformationEstimationPointToPlane()\n",
    "resultado_icp = o3d.registration.registration_icp(pc_filtrada_1,\n",
    "                                                  pc_filtrada_2, \n",
    "                                                  limite_distancia,\n",
    "                                                  resultado_FGR.transformation,\n",
    "                                                  tipo_registro)\n",
    "print(resultado_icp)\n",
    "draw_registration_result(pc_filtrada_1, pc_filtrada_2, resultado_icp.transformation)\n",
    "resultado_icp.transformation"
   ]
  },
  {
   "cell_type": "markdown",
   "metadata": {},
   "source": [
    "# Segmentação"
   ]
  },
  {
   "cell_type": "markdown",
   "metadata": {},
   "source": [
    "A segmentação de nuvens de pontos consiste em separar estruturas com geometrias iguais. O exemplo mais básico que podemos dar é separar estruturas planas de não planas. Faremos isso calculando os autovalores e com eles calculando índices de planaridade, esfericidade, etc,  para segmentar a nuvem. Utilizaremos a pyntcloud porque nela estes cálculos estão implementados."
   ]
  },
  {
   "cell_type": "code",
   "execution_count": 134,
   "metadata": {},
   "outputs": [
    {
     "data": {
      "text/html": [
       "<div>\n",
       "<style scoped>\n",
       "    .dataframe tbody tr th:only-of-type {\n",
       "        vertical-align: middle;\n",
       "    }\n",
       "\n",
       "    .dataframe tbody tr th {\n",
       "        vertical-align: top;\n",
       "    }\n",
       "\n",
       "    .dataframe thead th {\n",
       "        text-align: right;\n",
       "    }\n",
       "</style>\n",
       "<table border=\"1\" class=\"dataframe\">\n",
       "  <thead>\n",
       "    <tr style=\"text-align: right;\">\n",
       "      <th></th>\n",
       "      <th>x</th>\n",
       "      <th>y</th>\n",
       "      <th>z</th>\n",
       "      <th>e1(21)</th>\n",
       "      <th>e2(21)</th>\n",
       "      <th>e3(21)</th>\n",
       "      <th>planarity(21)</th>\n",
       "      <th>anisotropy(21)</th>\n",
       "      <th>sphericity(21)</th>\n",
       "      <th>omnivariance(21)</th>\n",
       "      <th>eigenentropy(21)</th>\n",
       "    </tr>\n",
       "  </thead>\n",
       "  <tbody>\n",
       "    <tr>\n",
       "      <th>0</th>\n",
       "      <td>-53.031326</td>\n",
       "      <td>185.443611</td>\n",
       "      <td>0.658555</td>\n",
       "      <td>0.460452</td>\n",
       "      <td>0.114048</td>\n",
       "      <td>0.000276</td>\n",
       "      <td>0.247088</td>\n",
       "      <td>0.999401</td>\n",
       "      <td>0.000599</td>\n",
       "      <td>0.024376</td>\n",
       "      <td>0.606976</td>\n",
       "    </tr>\n",
       "    <tr>\n",
       "      <th>1</th>\n",
       "      <td>-53.250126</td>\n",
       "      <td>185.568611</td>\n",
       "      <td>0.644555</td>\n",
       "      <td>0.416906</td>\n",
       "      <td>0.125244</td>\n",
       "      <td>0.000251</td>\n",
       "      <td>0.299811</td>\n",
       "      <td>0.999398</td>\n",
       "      <td>0.000602</td>\n",
       "      <td>0.023579</td>\n",
       "      <td>0.627024</td>\n",
       "    </tr>\n",
       "    <tr>\n",
       "      <th>2</th>\n",
       "      <td>-53.453226</td>\n",
       "      <td>185.631111</td>\n",
       "      <td>0.654555</td>\n",
       "      <td>0.412406</td>\n",
       "      <td>0.116085</td>\n",
       "      <td>0.000261</td>\n",
       "      <td>0.280851</td>\n",
       "      <td>0.999368</td>\n",
       "      <td>0.000632</td>\n",
       "      <td>0.023195</td>\n",
       "      <td>0.617420</td>\n",
       "    </tr>\n",
       "    <tr>\n",
       "      <th>3</th>\n",
       "      <td>-53.672026</td>\n",
       "      <td>185.693611</td>\n",
       "      <td>0.650555</td>\n",
       "      <td>0.412406</td>\n",
       "      <td>0.116085</td>\n",
       "      <td>0.000261</td>\n",
       "      <td>0.280851</td>\n",
       "      <td>0.999368</td>\n",
       "      <td>0.000632</td>\n",
       "      <td>0.023195</td>\n",
       "      <td>0.617420</td>\n",
       "    </tr>\n",
       "    <tr>\n",
       "      <th>4</th>\n",
       "      <td>-53.859426</td>\n",
       "      <td>185.756111</td>\n",
       "      <td>0.638555</td>\n",
       "      <td>0.412406</td>\n",
       "      <td>0.116085</td>\n",
       "      <td>0.000261</td>\n",
       "      <td>0.280851</td>\n",
       "      <td>0.999368</td>\n",
       "      <td>0.000632</td>\n",
       "      <td>0.023195</td>\n",
       "      <td>0.617420</td>\n",
       "    </tr>\n",
       "  </tbody>\n",
       "</table>\n",
       "</div>"
      ],
      "text/plain": [
       "           x           y         z    e1(21)    e2(21)    e3(21)  \\\n",
       "0 -53.031326  185.443611  0.658555  0.460452  0.114048  0.000276   \n",
       "1 -53.250126  185.568611  0.644555  0.416906  0.125244  0.000251   \n",
       "2 -53.453226  185.631111  0.654555  0.412406  0.116085  0.000261   \n",
       "3 -53.672026  185.693611  0.650555  0.412406  0.116085  0.000261   \n",
       "4 -53.859426  185.756111  0.638555  0.412406  0.116085  0.000261   \n",
       "\n",
       "   planarity(21)  anisotropy(21)  sphericity(21)  omnivariance(21)  \\\n",
       "0       0.247088        0.999401        0.000599          0.024376   \n",
       "1       0.299811        0.999398        0.000602          0.023579   \n",
       "2       0.280851        0.999368        0.000632          0.023195   \n",
       "3       0.280851        0.999368        0.000632          0.023195   \n",
       "4       0.280851        0.999368        0.000632          0.023195   \n",
       "\n",
       "   eigenentropy(21)  \n",
       "0          0.606976  \n",
       "1          0.627024  \n",
       "2          0.617420  \n",
       "3          0.617420  \n",
       "4          0.617420  "
      ]
     },
     "execution_count": 134,
     "metadata": {},
     "output_type": "execute_result"
    }
   ],
   "source": [
    "# Adicionar estrutura kdtree na nuvem\n",
    "pc_kdtree  = pc_pyntcloud.add_structure(\"kdtree\")\n",
    "\n",
    "# Vizinhanças de cada ponto k\n",
    "k_vizinhos = pc_pyntcloud.get_neighbors(k=20,kdtree=pc_kdtree)\n",
    "\n",
    "# Adicionar colunas dos autovalores (scalar fields)\n",
    "autovalores = pc_pyntcloud.add_scalar_field(\"eigen_values\", k_neighbors=k_vizinhos)\n",
    "\n",
    "# Adicionar Colunas das medidas dimensionais\n",
    "# Planaridade: (e2-e3/e1)\n",
    "eigen = pc_pyntcloud.add_scalar_field(\"planarity\",ev=autovalores)\n",
    "# Anisotropia: (e1-e3/e1)\n",
    "eigen = pc_pyntcloud.add_scalar_field(\"anisotropy\",ev=autovalores)\n",
    "# Esfericidade: (e3/e1)\n",
    "eigen = pc_pyntcloud.add_scalar_field(\"sphericity\",ev=autovalores)\n",
    "# Variância: (e1*e2*e3)^1/2\n",
    "eigen = pc_pyntcloud.add_scalar_field(\"omnivariance\",ev=autovalores)\n",
    "# Entropia: sum[ei*ln(ei)]\n",
    "eigen = pc_pyntcloud.add_scalar_field(\"eigenentropy\",ev=autovalores)\n",
    "\n",
    "pc_pyntcloud.points.head()"
   ]
  },
  {
   "cell_type": "code",
   "execution_count": 135,
   "metadata": {},
   "outputs": [],
   "source": [
    "# Retira do dataFrame todos os pontos que não passam no critério\n",
    "planos = pc_pyntcloud.points[pc_pyntcloud.points[\"planarity(21)\"] > 0.8]\n",
    "arvores = pc_pyntcloud.points[pc_pyntcloud.points[\"planarity(21)\"] < 0.2]"
   ]
  },
  {
   "cell_type": "code",
   "execution_count": 143,
   "metadata": {},
   "outputs": [],
   "source": [
    "# Converte para apenas as primeiras 3 colunas e salva a nuvem de objetos plano\n",
    "a = planos.values\n",
    "a = a[:,0:3]\n",
    "pts = pd.DataFrame(a)\n",
    "pts.rename(columns={0:'x',1:'y',2:'x'},inplace=True)\n",
    "pts.to_csv('/home/rubens/rubens_virtual_enviroment/nuvens-LiDAR/nuvem_pts_planos.csv')\n"
   ]
  },
  {
   "cell_type": "code",
   "execution_count": 144,
   "metadata": {},
   "outputs": [],
   "source": [
    "# Converte para apenas as primeiras 3 colunas e salva a nuvem de objetos não-planos\n",
    "a = arvores.values\n",
    "a = a[:,0:3]\n",
    "pts = pd.DataFrame(a)\n",
    "pts.rename(columns={0:'x',1:'y',2:'x'},inplace=True)\n",
    "pts.to_csv('/home/rubens/rubens_virtual_enviroment/nuvens-LiDAR/nuvem_pts_nao-planos.csv')\n",
    "# A função de escrita da biblioteca PyntCloud não funciona"
   ]
  },
  {
   "cell_type": "code",
   "execution_count": 145,
   "metadata": {},
   "outputs": [
    {
     "name": "stderr",
     "output_type": "stream",
     "text": [
      "/home/rubens/.local/lib/python3.6/site-packages/pythreejs/traits.py:191: UserWarning: 64-bit data types not supported for WebGL data, casting to 32-bit.\n",
      "  warnings.warn('64-bit data types not supported for WebGL '\n"
     ]
    },
    {
     "data": {
      "application/vnd.jupyter.widget-view+json": {
       "model_id": "5aefaa95aae44492a571933340b699b0",
       "version_major": 2,
       "version_minor": 0
      },
      "text/plain": [
       "Renderer(camera=PerspectiveCamera(aspect=1.6, fov=90.0, position=(-4.575900339870704, 179.29775567168153, 19.7…"
      ]
     },
     "metadata": {},
     "output_type": "display_data"
    },
    {
     "data": {
      "application/vnd.jupyter.widget-view+json": {
       "model_id": "9fd37616526b4cf0877c761383fb51c8",
       "version_major": 2,
       "version_minor": 0
      },
      "text/plain": [
       "HBox(children=(Label(value='Point size:'), FloatSlider(value=36.4875, max=364.875, step=0.36487499999999995), …"
      ]
     },
     "metadata": {},
     "output_type": "display_data"
    }
   ],
   "source": [
    "# Nuvem dos objetos planos (pontos com planaridade superior que 0.80)\n",
    "nuvem_planos = pytc.from_file(\"/home/rubens/rubens_virtual_enviroment/nuvens-LiDAR/nuvem_pts_planos.csv\",sep=\",\",header=0,names=[\"x\",\"y\",\"z\"])\n",
    "nuvem_planos.plot()"
   ]
  },
  {
   "cell_type": "code",
   "execution_count": 146,
   "metadata": {},
   "outputs": [
    {
     "data": {
      "application/vnd.jupyter.widget-view+json": {
       "model_id": "b7abefe4fc864dfda480a65f15f8034c",
       "version_major": 2,
       "version_minor": 0
      },
      "text/plain": [
       "Renderer(camera=PerspectiveCamera(aspect=1.6, fov=90.0, position=(-5.671152944761193, 181.0905213299242, 32.98…"
      ]
     },
     "metadata": {},
     "output_type": "display_data"
    },
    {
     "data": {
      "application/vnd.jupyter.widget-view+json": {
       "model_id": "ec56d743516d4b979cf8ce1a00354e18",
       "version_major": 2,
       "version_minor": 0
      },
      "text/plain": [
       "HBox(children=(Label(value='Point size:'), FloatSlider(value=36.73125, max=367.3125, step=0.36731250000000004)…"
      ]
     },
     "metadata": {},
     "output_type": "display_data"
    }
   ],
   "source": [
    "# Nuvem dos objetos não planos (pontos com planaridade inferior a 0.2)\n",
    "nuvem_arvores = pytc.from_file(\"/home/rubens/rubens_virtual_enviroment/nuvens-LiDAR/nuvem_pts_nao-planos.csv\",sep=\",\",header=0,names=[\"x\",\"y\",\"z\"])\n",
    "nuvem_arvores.plot()"
   ]
  }
 ],
 "metadata": {
  "accelerator": "TPU",
  "colab": {
   "collapsed_sections": [],
   "name": "registro_filtragem.ipynb",
   "provenance": []
  },
  "kernelspec": {
   "display_name": "Python 3",
   "language": "python",
   "name": "python3"
  },
  "language_info": {
   "codemirror_mode": {
    "name": "ipython",
    "version": 3
   },
   "file_extension": ".py",
   "mimetype": "text/x-python",
   "name": "python",
   "nbconvert_exporter": "python",
   "pygments_lexer": "ipython3",
   "version": "3.6.9"
  }
 },
 "nbformat": 4,
 "nbformat_minor": 1
}
