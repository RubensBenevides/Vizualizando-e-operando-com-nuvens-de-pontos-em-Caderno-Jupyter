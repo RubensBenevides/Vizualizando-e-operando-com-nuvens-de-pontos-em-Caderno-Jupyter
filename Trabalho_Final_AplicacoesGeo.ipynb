{
 "cells": [
  {
   "cell_type": "markdown",
   "metadata": {
    "colab_type": "text",
    "id": "_Adko3824TZG"
   },
   "source": [
    "# Vizualizando e operando com nuvens de pontos em Caderno Jupyter"
   ]
  },
  {
   "cell_type": "code",
   "execution_count": null,
   "metadata": {
    "colab": {},
    "colab_type": "code",
    "id": "_lq_97cdzmNi"
   },
   "outputs": [],
   "source": [
    "# Preparar o ambiente no Google Drive:\n",
    "#from google.colab import drive\n",
    "#drive.mount('/content/gdrive')"
   ]
  },
  {
   "cell_type": "markdown",
   "metadata": {},
   "source": [
    "Instalar as seguintes bibliotecas se for rodar no Colab:"
   ]
  },
  {
   "cell_type": "code",
   "execution_count": null,
   "metadata": {
    "colab": {},
    "colab_type": "code",
    "id": "Q0A_lx6BeOmX"
   },
   "outputs": [],
   "source": [
    "# Instalar bibliotecas que iremos utilizar\n",
    "# Bibliotecas para uso geral\n",
    "#!pip install numpy\n",
    "#!pip install pandas\n",
    "# Biblioteca para manipulação e vizualização de nuvens de pontos\n",
    "#!pip install ipyvolume \n",
    "#!pip install pyntcloud\n",
    "#!pip install open3d\n",
    "#!ls # para importar dados do Google Drive"
   ]
  },
  {
   "cell_type": "code",
   "execution_count": 2,
   "metadata": {
    "colab": {},
    "colab_type": "code",
    "id": "ot4g4Gy351gx"
   },
   "outputs": [],
   "source": [
    "# Importar Bibliotecas\n",
    "import numpy as np\n",
    "import pandas as pd\n",
    "import ipyvolume as ipv\n",
    "import open3d as o3d\n",
    "from open3d import JVisualizer\n",
    "from pyntcloud import PyntCloud as pytc\n",
    "import copy\n",
    "import time"
   ]
  },
  {
   "cell_type": "markdown",
   "metadata": {},
   "source": [
    "# Como importar a nuvem?"
   ]
  },
  {
   "cell_type": "markdown",
   "metadata": {
    "colab_type": "text",
    "id": "pLkeJcn47jrA"
   },
   "source": [
    "Uma nuvem de pontos pode se apresentar em diversos formatos, o mais básico desses formatos é simplesmente um arquivo ascii (txt.) com 3 colunas contendo xyz. Quatro das bibliotecas utilizadas permitem esse tipo de importação, mas algumas são mais eficientes que outras. Outro problema diz respeito à formatação e tipo de dado disponível, que pode ser de simples precisão (float32) ou dupla precisão (flaot64). Vamos aos testes: importar uma nuvem pequena (269 mil pontos, colunas separadas por vírgulas) com todas as bibliotecas que permitem isso:"
   ]
  },
  {
   "cell_type": "markdown",
   "metadata": {
    "colab_type": "text",
    "id": "LokXajRDAKjz"
   },
   "source": [
    "# Import pela Numpy:"
   ]
  },
  {
   "cell_type": "markdown",
   "metadata": {},
   "source": [
    "A numpy lê a nuvem como uma matriz de 269 mil linhas e 3 colunas, é a mais lenta das formas de importação, demora cerca de 2,1 segundos para ler uma nuvem com 268879 pts."
   ]
  },
  {
   "cell_type": "code",
   "execution_count": null,
   "metadata": {
    "colab": {},
    "colab_type": "code",
    "id": "Nt7b0AVJe_us",
    "scrolled": true
   },
   "outputs": [],
   "source": [
    "tempo_i = time.time()\n",
    "pc_numpy  = np.loadtxt('/home/rubens/Nuvem_Pontos_3D/recorte_centro_1.xyz', dtype='float', delimiter=',')\n",
    "tempo_f = time.time() - tempo_i\n",
    "print(pc_numpy)\n",
    "print(len(pc_numpy))\n",
    "print(\"Tempo para ler a nuvem: %.3f\" %tempo_f)"
   ]
  },
  {
   "cell_type": "markdown",
   "metadata": {},
   "source": [
    "# Import pela Pandas:"
   ]
  },
  {
   "cell_type": "markdown",
   "metadata": {},
   "source": [
    "Um data frame precisa de índices para nomear as colunas dos dados, então vamos nomear as colunas com os nomes x, y e z para que a primeira linha de coordenadas não seja interpretada como índices de colunas. A leitura é 10x mais rápida do que pela numpy."
   ]
  },
  {
   "cell_type": "code",
   "execution_count": null,
   "metadata": {
    "colab": {},
    "colab_type": "code",
    "id": "TlUqfalWEgzK"
   },
   "outputs": [],
   "source": [
    "tempo_i = time.time()\n",
    "pc_pandas = pd.read_csv('/home/rubens/Nuvem_Pontos_3D/recorte_centro_1.xyz', names=[\"x\",\"y\",\"z\"])\n",
    "tempo_f = time.time() - tempo_i\n",
    "print(pc_pandas)\n",
    "type(pc_pandas)\n",
    "print(\"Tempo para ler a nuvem: %.3f\" %tempo_f)"
   ]
  },
  {
   "cell_type": "markdown",
   "metadata": {},
   "source": [
    "# Import pela Pyntcloud:"
   ]
  },
  {
   "cell_type": "markdown",
   "metadata": {},
   "source": [
    "Por trás da Pyntcloud roda a função read_csv da pandas para importar dados, mas a pyntcloud cria um objeto próprio. \n",
    "Precisamos que o dado esteja formatado com colunas que possuam nomes x, y e z. Isso é feito dando o argumento 'names'  à função de leitura da PyntCloud (que igual à read_csv da pandas). O tempo de leitura é semelhante também."
   ]
  },
  {
   "cell_type": "code",
   "execution_count": 28,
   "metadata": {
    "colab": {},
    "colab_type": "code",
    "id": "p1YzTESCE0aL"
   },
   "outputs": [
    {
     "name": "stdout",
     "output_type": "stream",
     "text": [
      "PyntCloud\n",
      "268879 points with 0 scalar fields\n",
      "0 faces in mesh\n",
      "0 kdtrees\n",
      "0 voxelgrids\n",
      "Centroid: 3.0625871847689797e-09, -4.6036352185236944e-11, 3.3030529579523296e-14\n",
      "Other attributes:\n",
      "\n",
      "Tempo para ler a nuvem: 0.193\n"
     ]
    }
   ],
   "source": [
    "tempo_i = time.time()\n",
    "pc_pyntcloud = pytc.from_file('/home/rubens/Nuvem_Pontos_3D/recorte_centro_1.xyz',names=[\"x\",\"y\",\"z\"])\n",
    "tempo_f = time.time() - tempo_i\n",
    "print(pc_pyntcloud)\n",
    "type(pc_pyntcloud)\n",
    "print(\"Tempo para ler a nuvem: %.3f\" %tempo_f)"
   ]
  },
  {
   "cell_type": "markdown",
   "metadata": {},
   "source": [
    "# Import pela Open3D:"
   ]
  },
  {
   "cell_type": "markdown",
   "metadata": {},
   "source": [
    "A Open3D consegue ler arquivos pcd, ply e ascii como: xyz, xyzrgb, xyzn e pts. Todavia, no caso dos tipos ascii, ela não consegue ler dados separados por vírgula. Podemos contornar isso utilizando a função da Open3d que lê a matriz numpy gerada anteriormente:"
   ]
  },
  {
   "cell_type": "code",
   "execution_count": null,
   "metadata": {
    "colab": {},
    "colab_type": "code",
    "id": "tGqeOEUdEtXc"
   },
   "outputs": [],
   "source": [
    "tempo_i = time.time()\n",
    "pc_open3d = o3d.geometry.PointCloud()\n",
    "pc_open3d.points = o3d.utility.Vector3dVector(pc_numpy)\n",
    "tempo_f = time.time() - tempo_i\n",
    "print(pc_open3d)\n",
    "type(pc_open3d)\n",
    "print(\"Tempo para ler a nuvem: %.3f\" %tempo_f)"
   ]
  },
  {
   "cell_type": "markdown",
   "metadata": {},
   "source": [
    "Ou, simplemente lendo a nuvem no formato pcd (é pelo menos 3x mais rápida que a Pandas):"
   ]
  },
  {
   "cell_type": "code",
   "execution_count": null,
   "metadata": {},
   "outputs": [],
   "source": [
    "tempo_i = time.time()\n",
    "pc_open3d = o3d.io.read_point_cloud(\"/home/rubens/Nuvem_Pontos_3D/nuvem_centro.pcd\")\n",
    "tempo_f = time.time() - tempo_i\n",
    "print(pc_open3d)\n",
    "type(pc_open3d)\n",
    "print(\"Tempo para ler a nuvem: %.3f\" %tempo_f)"
   ]
  },
  {
   "cell_type": "markdown",
   "metadata": {
    "colab_type": "text",
    "id": "VLYur3y1MN9u"
   },
   "source": [
    "# Visualização com a PyntCloud: "
   ]
  },
  {
   "cell_type": "markdown",
   "metadata": {},
   "source": [
    "A visualização da pyntcloud aparece com os pontos em tamanhos exagerados, mas é possível alterar isso facilmente e por algum valor entre 0 e 1 para que a nuvem apareça normalmente. Não funciona no colab, ele desconectará assim que rodarmos o seguinte comando:"
   ]
  },
  {
   "cell_type": "code",
   "execution_count": null,
   "metadata": {
    "colab": {},
    "colab_type": "code",
    "id": "uMNYlBU9MNjY"
   },
   "outputs": [],
   "source": [
    "pc_pyntcloud.plot()"
   ]
  },
  {
   "cell_type": "markdown",
   "metadata": {},
   "source": [
    "# Visualização com a ipyVolume: "
   ]
  },
  {
   "cell_type": "markdown",
   "metadata": {},
   "source": [
    "A ipyVolume permite animações e muitos outros recursos da ipywidgets incorporados na sua implementação.\n",
    "Todavia, a renderização é mais complexa e pode ficar lenta dependendo do seu hardware. Para plotar os pontos precisamos das colunas da matriz numpy:"
   ]
  },
  {
   "cell_type": "code",
   "execution_count": null,
   "metadata": {
    "colab": {},
    "colab_type": "code",
    "id": "1r3FTVjKZP37"
   },
   "outputs": [],
   "source": [
    "x = pc_numpy[:,0];y = pc_numpy[:,1];z = pc_numpy[:,2]\n",
    "ipv.quickscatter(x, y, z, size=0.5, marker=\"sphere\")"
   ]
  },
  {
   "cell_type": "markdown",
   "metadata": {
    "colab": {},
    "colab_type": "code",
    "id": "w3Ot9f4QyMGh"
   },
   "source": [
    "# Visualização com a Open3d: "
   ]
  },
  {
   "cell_type": "markdown",
   "metadata": {},
   "source": [
    "A Open3d não suporta visualizações dentro de cadernos jupyter, mas mesmo assim desenha a nuvem em uma janela a parte. Essa nuvem não aparece se os dados estiverem em coordenadas UTM."
   ]
  },
  {
   "cell_type": "code",
   "execution_count": null,
   "metadata": {
    "colab": {},
    "colab_type": "code",
    "id": "2TTdAyJ2yXDI"
   },
   "outputs": [],
   "source": [
    "o3d.visualization.draw_geometries([pc_open3d])"
   ]
  },
  {
   "cell_type": "markdown",
   "metadata": {},
   "source": [
    "# Kd-trees & Octrees: Pytncloud"
   ]
  },
  {
   "cell_type": "markdown",
   "metadata": {},
   "source": [
    "Kd-trees e octrees são estruturas muito utilizadas quando manipulamos nuvens de pontos. A maioria dos filtros e diversas outras funcionalidades necessitam de kd-trees e octrees para funcionar. O nome tree (árvore) se deve à forma como o objeto é criado através de subdivisões do espaço. Apenas as bibliotecas Open3D e Pyncloud, específicas para nuvens de pontos, trabalham com este objeto."
   ]
  },
  {
   "cell_type": "markdown",
   "metadata": {},
   "source": [
    "No exemplo abaixo utilizamos uma kd-tree para selecionar os k vizinhos mais próximos de cada ponto da nuvem. A estrutura gerada é uma matriz com k colunas com os índices dos pts mais próximos."
   ]
  },
  {
   "cell_type": "code",
   "execution_count": null,
   "metadata": {},
   "outputs": [],
   "source": [
    "# Adicionar estrutura kdtree na nuvem:\n",
    "kdtree_pyntcloud = pc_pyntcloud.add_structure(\"kdtree\")\n",
    "# Guardar k vizinhos de cada ponto:\n",
    "k_vizinhos = pc_pyntcloud.get_neighbors(k=6,kdtree=kdtree_pyntcloud)\n",
    "print(k_vizinhos)"
   ]
  },
  {
   "cell_type": "markdown",
   "metadata": {},
   "source": [
    "A função abaixo permite subdividir o espaço ocupado pela nuvem com uma octree. Os parâmetros da subdivisão podem ser a quantidade de voxels finais desejados em cada eixo (n_x=1, n_y=1, n_z=1) ou o tamanho dos voxels criados em cada eixo (size_x=1.0, size_y=1.0, size_z=1.0). Colocar valores pequenos nos tamanhos (abaixo de 0.5) ou muito grandes nas quantidades finais (acima de 100) costuma travar o Jupyter por falta de memória. Setar 'None' nos tamanhos se quiser usar as quantidades."
   ]
  },
  {
   "cell_type": "code",
   "execution_count": null,
   "metadata": {},
   "outputs": [],
   "source": [
    "# Adicionar octree na nuvem importada com a Pyntcloud\n",
    "voxelgrid_pyntcloud = pc_pyntcloud.add_structure(\"voxelgrid\", n_x=1, n_y=1, n_z=1, size_x=1.0, size_y=1.0, size_z=1.0)\n",
    "print(voxelgrid_pyntcloud)"
   ]
  },
  {
   "cell_type": "markdown",
   "metadata": {},
   "source": [
    "# Kd-trees & Octrees: Open3D"
   ]
  },
  {
   "cell_type": "markdown",
   "metadata": {},
   "source": [
    "Kdtrees na Open3D são implementadas utilizando o algoritmo FLANN (Fast Library for Approximate Nearest Neighbors). Diferente da pyntcloud, esse algoritmo não procura todos os pontos mais pŕoximos por força bruta."
   ]
  },
  {
   "cell_type": "code",
   "execution_count": null,
   "metadata": {},
   "outputs": [],
   "source": [
    "# Pinta a nuvem de amarelo:\n",
    "pc_open3d.paint_uniform_color([0.8, 0.8, 0])\n",
    "\n",
    "# Cria a kd-tree na nuvem usando flann:\n",
    "pcd_tree = o3d.geometry.KDTreeFlann(pc_open3d)\n",
    "\n",
    "# Pinta o ponto de indice 100000 de vermelho:\n",
    "pc_open3d.colors[100000] = [1, 0, 0]\n",
    "\n",
    "# Procura os 1000 pontos vizinhos do ponto anterior:\n",
    "[k, idx, _] = pcd_tree.search_knn_vector_3d(pc_open3d.points[100000],1000)\n",
    "\n",
    "# Pinta os vizinhos de azul:\n",
    "np.asarray(pc_open3d.colors)[idx[1:], :] = [0, 0, 1]\n",
    "\n",
    "# Encontra os vizinhos com distância menor que 5 m:\n",
    "[k, idx, _] = pcd_tree.search_radius_vector_3d(pc_open3d.points[100000],5.0)\n",
    "\n",
    "# Pinta os vizinhos dentro dos 5 m de preto:\n",
    "np.asarray(pc_open3d.colors)[idx[1:], :] = [0, 0, 0]\n",
    "\n",
    "# Plota a nuvem:\n",
    "o3d.visualization.draw_geometries([pc_open3d])"
   ]
  },
  {
   "cell_type": "markdown",
   "metadata": {},
   "source": [
    "A linha baixo cria uma octree com 64 voxels utilizando a Open3D, para isso ela divide um cubo de 1 m³ centrado em [0,0,0] em cubos menores de 0.25 m de largura, o que dá 4x4x4 voxels."
   ]
  },
  {
   "cell_type": "code",
   "execution_count": null,
   "metadata": {},
   "outputs": [],
   "source": [
    "o3d.geometry.VoxelGrid.create_dense([0.0,0.0,0.0],0.25, 1, 1, 1)"
   ]
  },
  {
   "cell_type": "markdown",
   "metadata": {},
   "source": [
    "# Voxialização"
   ]
  },
  {
   "cell_type": "markdown",
   "metadata": {},
   "source": [
    "Quando temos uma nuvem muito grande é coveniente que se faça uma voxialização para reduzir seu tamanho. Além de deixá-la com densidade uniforme, essa operação consegue reduzir a quantidade de pontos preservando a forma dos objetos. Para o registro a voxialização é crítica pois a operação demanda tempo exponencialmente maior de acordo com o tamanho da nuvem."
   ]
  },
  {
   "cell_type": "markdown",
   "metadata": {},
   "source": [
    "Para a voxialização vamos usar a estrutura voxelgrid criada anteriormente com a pyntcloud (voxels com 1m³ de tamanho)\n"
   ]
  },
  {
   "cell_type": "code",
   "execution_count": null,
   "metadata": {},
   "outputs": [],
   "source": [
    "pc_voxializada_pyntcloud = pc_pyntcloud.get_sample(name='voxelgrid_centers',as_PyntCloud=True,voxelgrid_id=voxelgrid_pyntcloud)\n",
    "print(pc_voxializada_pyntcloud)\n",
    "# Desenhar nuvem voxializada:\n",
    "pc_voxializada_pyntcloud.plot()"
   ]
  },
  {
   "cell_type": "markdown",
   "metadata": {},
   "source": [
    "A open3d faz a voxialização direto na nuvem, recebe como parâmetro apenas o tamanho do voxel, quanto maior, menos pontos na nuvem final:"
   ]
  },
  {
   "cell_type": "code",
   "execution_count": null,
   "metadata": {},
   "outputs": [],
   "source": [
    "pc_voxializada_open3d = pc_open3d.voxel_down_sample(voxel_size=1.0)\n",
    "print(pc_voxializada_open3d)\n",
    "o3d.visualization.draw_geometries([pc_voxializada_open3d])"
   ]
  },
  {
   "cell_type": "markdown",
   "metadata": {},
   "source": [
    "# Filtragem"
   ]
  },
  {
   "cell_type": "markdown",
   "metadata": {},
   "source": [
    "Filtragens são feitas considerando uma vizinhança mínima que deve existir ao redor de um ponto. Essa vizinhança pode ser definida como um raio geométrico ao redor do ponto ou por um desvio-padrão. No primeiro caso temos o filtro por raio, no segundo o filtro estatístico. Recomenda-se fazer a filtragem sempre após a voxialização."
   ]
  },
  {
   "cell_type": "markdown",
   "metadata": {},
   "source": [
    "A filtragem utiliza kd-trees para encontrar vizinhos mais próximos, na pyntcloud precisamos construir a kd-tree da nuvem voxializada que será filtrada:"
   ]
  },
  {
   "cell_type": "code",
   "execution_count": null,
   "metadata": {},
   "outputs": [],
   "source": [
    "kdtree_filtragem = pc_voxializada_pyntcloud.add_structure(\"kdtree\")"
   ]
  },
  {
   "cell_type": "code",
   "execution_count": null,
   "metadata": {},
   "outputs": [],
   "source": [
    "# RADIOS OUTLIER REMOVAL.\n",
    "# ENTRADAS: r=raio, k=nº_de_vizinhos, kdtree_id;   \n",
    "# SAÍDAS: índices dos pontos filtrados.\n",
    "idx = pc_voxializada_pyntcloud.get_filter(name='ROR',k=6,r=1.5,kdtree_id=kdtree_filtragem)\n",
    "\n",
    "pts_filtrados = len(idx)-sum(idx)\n",
    "print(\"pontos filtrados: %d\" %pts_filtrados)"
   ]
  },
  {
   "cell_type": "code",
   "execution_count": null,
   "metadata": {},
   "outputs": [],
   "source": [
    "# STATISTIICAL OUTLIER REMOVAL.\n",
    "# ENTRADAS: z_max=desvio_padrao, k=nº_de_vizinhos, kdtree_id;   \n",
    "# SAÍDAS: índices dos pontos filtrados.\n",
    "idx = pc_voxializada_pyntcloud.get_filter(name='SOR',k=6,z_max=1.2,kdtree_id=kdtree_filtragem)\n",
    "\n",
    "pts_filtrados = len(idx)-sum(idx)\n",
    "print(\"pontos filtrados: %d\" %pts_filtrados)"
   ]
  },
  {
   "cell_type": "markdown",
   "metadata": {},
   "source": [
    "Os mesmos filtros aplicados na mesma nuvem com os mesmos parâmetros produzem resultados diferentes na Open3D. Isso ocorre porque como mencionado anteriormente, o algoritmo da kd-tree é diferente. Além disso, as voxializações produziram nuvens com quantidades de pontos ligeiramente diferentes, mesmo que o tamanho do voxel utilizado tenha sido o mesmo."
   ]
  },
  {
   "cell_type": "code",
   "execution_count": null,
   "metadata": {},
   "outputs": [],
   "source": [
    "# FILTRO POR RAIO.\n",
    "# ENTRADAS: Raio e Quantidade mínima de pontos.\n",
    "# SAÍDAS: nuvem filtrada e índices desses pontos.\n",
    "pc_filtrada_raio, ind = pc_voxializada_open3d.remove_radius_outlier(nb_points=6, radius=1.5)\n",
    "print(pc_filtrada_raio)\n",
    "o3d.visualization.draw_geometries([pc_filtrada_raio])\n",
    "\n",
    "pts_filtrados = len(pc_voxializada_open3d.points)-len(pc_filtrada_raio.points)\n",
    "print(\"pontos filtrados: %d\" %pts_filtrados)"
   ]
  },
  {
   "cell_type": "code",
   "execution_count": null,
   "metadata": {},
   "outputs": [],
   "source": [
    "# FILTRO ESTATÍTISTICO.\n",
    "# ENTRADAS: Desvio-Padrão e Quantidade mínima de pontos.\n",
    "# SAÍDAS: nuvem filtrada e índices desses pontos.\n",
    "pc_filtrada_estat, ind = pc_voxializada_open3d.remove_statistical_outlier(nb_neighbors=6, std_ratio=1.2)\n",
    "print(pc_filtrada_estat)\n",
    "o3d.visualization.draw_geometries([pc_filtrada_estat])\n",
    "\n",
    "pts_filtrados = len(pc_voxializada_open3d.points)-len(pc_filtrada_estat.points)\n",
    "print(\"pontos filtrados: %d\" %pts_filtrados)"
   ]
  },
  {
   "cell_type": "markdown",
   "metadata": {},
   "source": [
    "Por algum motivo desconhecido a função 'select_down_sample' faz o Kernel do jupyter parar de funcionar, então infelizmente não conseguiremos mostrar as duas nuvens (inliers e outliers) com a célula abaixo: (rodar ela irá parar o Kernel)"
   ]
  },
  {
   "cell_type": "code",
   "execution_count": null,
   "metadata": {},
   "outputs": [],
   "source": [
    "# Separa as duas nuvens em pontos restantes (inliers) e removidos (outliers)\n",
    "pontos_restantes = pc_filtrada_1.select_down_sample(ind)\n",
    "pontos_removidos = pc_filtrada_1.select_down_sample(ind, invert=True)\n",
    "\n",
    "# Coloca cores diferentes nas nuvens:\n",
    "pontos_restantes.paint_uniform_color([1,0,0])       # Inliers  -> vermelho\n",
    "pontos_removidos.paint_uniform_color([0.8,0.8,0.8]) # outliers -> cinza\n",
    "\n",
    "# Desenhar as duas nuvens\n",
    "o3d.visualization.draw_geometries([pontos_restantes, pontos_removidos])"
   ]
  },
  {
   "cell_type": "markdown",
   "metadata": {},
   "source": [
    "# Registro de pares de nuvens de pontos"
   ]
  },
  {
   "cell_type": "markdown",
   "metadata": {},
   "source": [
    "Apenas a Open3D tem funções implementadas para fazer o registro de nuvens de pontos. Essas funções se subdividem em registros globais para alinhamento inicial e registros finos, que consistem em variações do ICP (Iterative Closest Point). O registro é simplesmente o alinhamento de duas nuvens no mesmo referencial, portanto, a sua saída é uma matriz de transformação que inclui uma rotação e uma translação em uma única matriz 4x4."
   ]
  },
  {
   "cell_type": "markdown",
   "metadata": {},
   "source": [
    "Para efetuar o registro precisamos de duas nuvens, das normais dos pontos e dos descritores dos pontos. E para o cálculo das normais e dos descritores precisamos da kd-tree. A seguir fazemos todo o pre-processamento:"
   ]
  },
  {
   "cell_type": "code",
   "execution_count": 7,
   "metadata": {},
   "outputs": [
    {
     "name": "stdout",
     "output_type": "stream",
     "text": [
      "geometry::PointCloud with 10197 points.\n",
      "geometry::PointCloud with 11655 points.\n"
     ]
    }
   ],
   "source": [
    "# Importar duas nuvens com sobreposição e posições translocadas/rotacionadas:\n",
    "pc_open3d_1 = o3d.io.read_point_cloud(\"/home/rubens/Nuvem_Pontos_3D/recorte_translocado_1.pcd\")\n",
    "pc_open3d_2 = o3d.io.read_point_cloud(\"/home/rubens/Nuvem_Pontos_3D/recorte_translocado_2.pcd\")\n",
    "\n",
    "# Voxializar as nuvens:\n",
    "pc_voxializada_1 = pc_open3d_1.voxel_down_sample(voxel_size=0.2)\n",
    "pc_voxializada_2 = pc_open3d_2.voxel_down_sample(voxel_size=0.2)\n",
    "\n",
    "# Filtrar as nuvens (filtro estatístico):\n",
    "pc_filtrada_1, ind = pc_voxializada_1.remove_statistical_outlier(nb_neighbors=6, std_ratio=2.0)\n",
    "pc_filtrada_2, ind = pc_voxializada_2.remove_statistical_outlier(nb_neighbors=6, std_ratio=2.0)\n",
    "\n",
    "# Construir kd-tree para calcular normais (30 cm) e outra para calcular descritores (5 m):\n",
    "kd_tree_normais     = o3d.geometry.KDTreeSearchParamHybrid(radius=0.3, max_nn=30)\n",
    "kd_tree_descritores = o3d.geometry.KDTreeSearchParamHybrid(radius=5.0, max_nn=1000)\n",
    "\n",
    "# Calcular normais das nuvens:\n",
    "normais_1 = pc_filtrada_1.estimate_normals(kd_tree_normais)\n",
    "normais_2 = pc_filtrada_2.estimate_normals(kd_tree_normais)\n",
    "\n",
    "# Calcular descritores das nuvens:\n",
    "pc_fpfh_1 = o3d.registration.compute_fpfh_feature(pc_filtrada_1,kd_tree_descritores)\n",
    "pc_fpfh_2 = o3d.registration.compute_fpfh_feature(pc_filtrada_2,kd_tree_descritores)\n",
    "\n",
    "print(pc_filtrada_1)\n",
    "print(pc_filtrada_2)\n",
    "pc_filtrada_1.paint_uniform_color([0.8, 0.8, 0])\n",
    "pc_filtrada_2.paint_uniform_color([0, 0, 0.9])\n",
    "o3d.visualization.draw_geometries([pc_filtrada_1,pc_filtrada_2])"
   ]
  },
  {
   "cell_type": "code",
   "execution_count": 8,
   "metadata": {},
   "outputs": [],
   "source": [
    "# Função para desenhar o resultado do registro com duas cores diferentes para cada nuvem\n",
    "def draw_registration_result(source, target, transformation):\n",
    "    source_temp = copy.deepcopy(source)\n",
    "    target_temp = copy.deepcopy(target)\n",
    "    source_temp.paint_uniform_color([0.8, 0.8, 0])\n",
    "    target_temp.paint_uniform_color([0, 0, 0.9])\n",
    "    source_temp.transform(transformation)\n",
    "    o3d.visualization.draw_geometries([source_temp, target_temp])"
   ]
  },
  {
   "cell_type": "code",
   "execution_count": 17,
   "metadata": {},
   "outputs": [],
   "source": [
    "# Definir o limites convergência do registro:\n",
    "limite_distancia   = 0.4\n",
    "limite_comprimento = 0.4\n",
    "limite_normais     = 0.01 # em radianos\n",
    "\n",
    "# Definir os limites de correspondência para os descritores:\n",
    "limite_co_comprimento = o3d.registration.CorrespondenceCheckerBasedOnEdgeLength(0.9)\n",
    "limite_co_distancia = o3d.registration.CorrespondenceCheckerBasedOnDistance(0.9)\n",
    "limite_co_normais = o3d.registration.CorrespondenceCheckerBasedOnNormal(limite_normais)\n",
    "\n",
    "# Definir o tipo de registro (ponto-ponto) e se incorpora mudanças na escala (False = transformação rígida 3D)\n",
    "tipo_registro = o3d.registration.TransformationEstimationPointToPlane()\n",
    "\n",
    "# Definir parâmetros do algoritmo RANSAC: amostragem mínima de pontos e parada\n",
    "ransac_n = 4\n",
    "criterio_parada_RANSAC = o3d.registration.RANSACConvergenceCriteria(4000000, 500) # quanto maior melhor"
   ]
  },
  {
   "cell_type": "markdown",
   "metadata": {},
   "source": [
    "# Registro Global 1: RANSAC BASED ON FEATURE MATCH"
   ]
  },
  {
   "cell_type": "code",
   "execution_count": 18,
   "metadata": {
    "collapsed": true
   },
   "outputs": [
    {
     "name": "stdout",
     "output_type": "stream",
     "text": [
      "registration::RegistrationResult with fitness = 0.003629, inlier_rmse = 0.008605, and correspondence_set size of 37\n",
      "Access transformation to get result.\n"
     ]
    },
    {
     "data": {
      "text/plain": [
       "array([[ 9.99995814e-01, -4.23600065e-06,  2.89334208e-03,\n",
       "         0.00000000e+00],\n",
       "       [-4.23516474e-22,  9.99998928e-01,  1.46404953e-03,\n",
       "        -7.06829778e-01],\n",
       "       [-2.89334518e-03, -1.46404340e-03,  9.99994743e-01,\n",
       "        -3.25534015e-02],\n",
       "       [ 0.00000000e+00,  0.00000000e+00,  0.00000000e+00,\n",
       "         1.00000000e+00]])"
      ]
     },
     "execution_count": 18,
     "metadata": {},
     "output_type": "execute_result"
    }
   ],
   "source": [
    "resultado_RANSAC = o3d.registration.registration_ransac_based_on_feature_matching(pc_filtrada_1,\n",
    "                                                                                  pc_filtrada_2,\n",
    "                                                                                  pc_fpfh_1,\n",
    "                                                                                  pc_fpfh_2,\n",
    "                                                                                  limite_normais,\n",
    "                                                                                  tipo_registro,\n",
    "                                                                                  ransac_n,\n",
    "                                                                                  [limite_co_normais],\n",
    "                                                                                  criterio_parada_RANSAC)\n",
    "print(resultado_RANSAC)\n",
    "draw_registration_result(pc_filtrada_1, pc_filtrada_2,resultado_RANSAC.transformation)\n",
    "resultado_RANSAC.transformation"
   ]
  },
  {
   "cell_type": "markdown",
   "metadata": {},
   "source": [
    "# Registro Global 2: FAST-GLOBAL-REGISTRATION (ZHOU, 2016)"
   ]
  },
  {
   "cell_type": "code",
   "execution_count": 25,
   "metadata": {},
   "outputs": [
    {
     "name": "stdout",
     "output_type": "stream",
     "text": [
      "registration::RegistrationResult with fitness = 0.000000, inlier_rmse = 0.000000, and correspondence_set size of 0\n",
      "Access transformation to get result.\n"
     ]
    },
    {
     "data": {
      "text/plain": [
       "array([[ 9.97782435e-01,  6.65570967e-02, -6.04505327e-04,\n",
       "         1.28461918e+00],\n",
       "       [-6.65566882e-02,  9.97782419e-01,  6.72381931e-04,\n",
       "        -1.02077834e+00],\n",
       "       [ 6.47916577e-04, -6.30657008e-04,  9.99999591e-01,\n",
       "        -3.11699896e-02],\n",
       "       [-0.00000000e+00, -0.00000000e+00, -0.00000000e+00,\n",
       "         1.00000000e+00]])"
      ]
     },
     "execution_count": 25,
     "metadata": {},
     "output_type": "execute_result"
    }
   ],
   "source": [
    "# Definir parâmetros do registro FGR\n",
    "registro_FGR = o3d.registration.FastGlobalRegistrationOption(division_factor = 1.4,         # padrão: 1.4 \n",
    "                                                             use_absolute_scale = True,     # padrão: False\n",
    "                                                             decrease_mu = False,           # padrão: False\n",
    "                                                             maximum_correspondence_distance = 0.015, # padrão: 0.025             \n",
    "                                                             iteration_number = 6400,       # padrão: 64 \n",
    "                                                             tuple_scale = 0.95,            # padrão: 0.95\n",
    "                                                             maximum_tuple_count = 100000)  # padrão: 1000\n",
    "# Executar registro FGR\n",
    "resultado_FGR = o3d.registration.registration_fast_based_on_feature_matching(pc_filtrada_1,\n",
    "                                                                             pc_filtrada_2, \n",
    "                                                                             pc_fpfh_1,\n",
    "                                                                             pc_fpfh_2,\n",
    "                                                                             registro_FGR)\n",
    "\n",
    "draw_registration_result(pc_filtrada_1, pc_filtrada_2, resultado_FGR.transformation)\n",
    "print(resultado_FGR)\n",
    "resultado_FGR.transformation"
   ]
  },
  {
   "cell_type": "markdown",
   "metadata": {},
   "source": [
    "# Refinamento do registro global 1 por ICP-PONTO-PONTO"
   ]
  },
  {
   "cell_type": "code",
   "execution_count": 26,
   "metadata": {
    "colab": {},
    "colab_type": "code",
    "id": "n0kAhJUBWsUv"
   },
   "outputs": [
    {
     "name": "stdout",
     "output_type": "stream",
     "text": [
      "registration::RegistrationResult with fitness = 0.005100, inlier_rmse = 0.005451, and correspondence_set size of 52\n",
      "Access transformation to get result.\n"
     ]
    },
    {
     "data": {
      "text/plain": [
       "array([[ 9.99994755e-01, -1.42629774e-05,  3.23885090e-03,\n",
       "        -7.01546399e-03],\n",
       "       [ 9.50241494e-06,  9.99998920e-01,  1.46984133e-03,\n",
       "        -7.07186332e-01],\n",
       "       [-3.23886836e-03, -1.46980284e-03,  9.99993675e-01,\n",
       "        -3.98917966e-02],\n",
       "       [ 0.00000000e+00,  0.00000000e+00,  0.00000000e+00,\n",
       "         1.00000000e+00]])"
      ]
     },
     "execution_count": 26,
     "metadata": {},
     "output_type": "execute_result"
    }
   ],
   "source": [
    "limite = 0.01\n",
    "tipo_registro = o3d.registration.TransformationEstimationPointToPoint()\n",
    "reg_p2p = o3d.registration.registration_icp(pc_filtrada_1,\n",
    "                                            pc_filtrada_2,\n",
    "                                            limite, \n",
    "                                            resultado_RANSAC.transformation,\n",
    "                                            tipo_registro)\n",
    "draw_registration_result(pc_filtrada_1, pc_filtrada_2, reg_p2p.transformation)\n",
    "print(reg_p2p)\n",
    "reg_p2p.transformation"
   ]
  },
  {
   "cell_type": "markdown",
   "metadata": {},
   "source": [
    "# Refinamento do registro global 1 por ICP-PONTO-PLANO"
   ]
  },
  {
   "cell_type": "code",
   "execution_count": 13,
   "metadata": {
    "colab": {},
    "colab_type": "code",
    "id": "a6VKKaXu8hB3"
   },
   "outputs": [
    {
     "name": "stdout",
     "output_type": "stream",
     "text": [
      "registration::RegistrationResult with fitness = 0.000000, inlier_rmse = 0.000000, and correspondence_set size of 0\n",
      "Access transformation to get result.\n"
     ]
    },
    {
     "data": {
      "text/plain": [
       "array([[-9.96738319e-01,  1.58754541e-02,  7.91245468e-02,\n",
       "         3.35544316e+07],\n",
       "       [ 1.56997595e-02,  9.99872712e-01, -2.84212053e-03,\n",
       "         1.34305789e-01],\n",
       "       [-7.91595951e-02, -1.59061408e-03, -9.96860687e-01,\n",
       "         4.19430396e+06],\n",
       "       [ 0.00000000e+00,  0.00000000e+00,  0.00000000e+00,\n",
       "         1.00000000e+00]])"
      ]
     },
     "execution_count": 13,
     "metadata": {},
     "output_type": "execute_result"
    }
   ],
   "source": [
    "# ICP PONTO-PLANO\n",
    "limite = 0.01\n",
    "tipo_registro = o3d.registration.TransformationEstimationPointToPlane()\n",
    "reg_p2l = o3d.registration.registration_icp(pc_filtrada_1,\n",
    "                                            pc_filtrada_2,\n",
    "                                            limite, \n",
    "                                            resultado_RANSAC.transformation,\n",
    "                                            tipo_registro)\n",
    "draw_registration_result(pc_filtrada_1, pc_filtrada_2, reg_p2l.transformation)\n",
    "print(reg_p2l)\n",
    "reg_p2l.transformation"
   ]
  },
  {
   "cell_type": "markdown",
   "metadata": {},
   "source": [
    "# Refinamento do registro global 2 por ICP-PONTO-PONTO"
   ]
  },
  {
   "cell_type": "code",
   "execution_count": 14,
   "metadata": {},
   "outputs": [
    {
     "name": "stdout",
     "output_type": "stream",
     "text": [
      "registration::RegistrationResult with fitness = 0.000000, inlier_rmse = 0.000000, and correspondence_set size of 0\n",
      "Access transformation to get result.\n"
     ]
    },
    {
     "data": {
      "text/plain": [
       "array([[ 9.99068005e-01, -4.31238278e-02, -1.85942529e-03,\n",
       "        -5.62135610e+00],\n",
       "       [ 4.31289090e-02,  9.99065634e-01,  2.78510461e-03,\n",
       "         8.80739054e+00],\n",
       "       [ 1.73758354e-03, -2.86270389e-03,  9.99994393e-01,\n",
       "         4.17964337e-01],\n",
       "       [ 0.00000000e+00,  0.00000000e+00,  0.00000000e+00,\n",
       "         1.00000000e+00]])"
      ]
     },
     "execution_count": 14,
     "metadata": {},
     "output_type": "execute_result"
    }
   ],
   "source": [
    "limite_distancia = 0.01\n",
    "tipo_registro = o3d.registration.TransformationEstimationPointToPoint()\n",
    "resultado_icp = o3d.registration.registration_icp(pc_filtrada_1,\n",
    "                                                  pc_filtrada_2, \n",
    "                                                  limite_distancia,\n",
    "                                                  resultado_FGR.transformation,\n",
    "                                                  tipo_registro)\n",
    "print(resultado_icp)\n",
    "draw_registration_result(pc_filtrada_1, pc_filtrada_2, resultado_icp.transformation)\n",
    "resultado_icp.transformation"
   ]
  },
  {
   "cell_type": "markdown",
   "metadata": {},
   "source": [
    "# Refinamento do registro global 2 por ICP-PONTO-PLANO"
   ]
  },
  {
   "cell_type": "code",
   "execution_count": null,
   "metadata": {},
   "outputs": [],
   "source": [
    "limite_distancia = 0.01\n",
    "tipo_registro = o3d.registration.TransformationEstimationPointToPlane()\n",
    "resultado_icp = o3d.registration.registration_icp(pc_filtrada_1,\n",
    "                                                  pc_filtrada_2, \n",
    "                                                  limite_distancia,\n",
    "                                                  resultado_FGR.transformation,\n",
    "                                                  tipo_registro)\n",
    "print(resultado_icp)\n",
    "draw_registration_result(pc_filtrada_1, pc_filtrada_2, resultado_icp.transformation)\n",
    "resultado_icp.transformation"
   ]
  },
  {
   "cell_type": "markdown",
   "metadata": {},
   "source": [
    "# Segmentação"
   ]
  },
  {
   "cell_type": "markdown",
   "metadata": {},
   "source": [
    "A segmentação de nuvens de pontos consiste em separar estruturas com geometrias iguais. O exemplo mais básico que podemos dar é separar estruturas planas de não planas. Faremos isso calculando os autovalores e com eles calculando índices de planaridade, esfericidade, etc,  para segmentar a nuvem. Utilizaremos a pyntcloud porque nela estes cálculos estão implementados."
   ]
  },
  {
   "cell_type": "code",
   "execution_count": 29,
   "metadata": {},
   "outputs": [
    {
     "data": {
      "text/html": [
       "<div>\n",
       "<style scoped>\n",
       "    .dataframe tbody tr th:only-of-type {\n",
       "        vertical-align: middle;\n",
       "    }\n",
       "\n",
       "    .dataframe tbody tr th {\n",
       "        vertical-align: top;\n",
       "    }\n",
       "\n",
       "    .dataframe thead th {\n",
       "        text-align: right;\n",
       "    }\n",
       "</style>\n",
       "<table border=\"1\" class=\"dataframe\">\n",
       "  <thead>\n",
       "    <tr style=\"text-align: right;\">\n",
       "      <th></th>\n",
       "      <th>x</th>\n",
       "      <th>y</th>\n",
       "      <th>z</th>\n",
       "      <th>e1(21)</th>\n",
       "      <th>e2(21)</th>\n",
       "      <th>e3(21)</th>\n",
       "      <th>planarity(21)</th>\n",
       "      <th>anisotropy(21)</th>\n",
       "      <th>sphericity(21)</th>\n",
       "      <th>omnivariance(21)</th>\n",
       "      <th>eigenentropy(21)</th>\n",
       "    </tr>\n",
       "  </thead>\n",
       "  <tbody>\n",
       "    <tr>\n",
       "      <th>0</th>\n",
       "      <td>-53.031326</td>\n",
       "      <td>185.443611</td>\n",
       "      <td>0.658555</td>\n",
       "      <td>0.460452</td>\n",
       "      <td>0.114048</td>\n",
       "      <td>0.000276</td>\n",
       "      <td>0.247088</td>\n",
       "      <td>0.999401</td>\n",
       "      <td>0.000599</td>\n",
       "      <td>0.024376</td>\n",
       "      <td>0.606976</td>\n",
       "    </tr>\n",
       "    <tr>\n",
       "      <th>1</th>\n",
       "      <td>-53.250126</td>\n",
       "      <td>185.568611</td>\n",
       "      <td>0.644555</td>\n",
       "      <td>0.416906</td>\n",
       "      <td>0.125244</td>\n",
       "      <td>0.000251</td>\n",
       "      <td>0.299811</td>\n",
       "      <td>0.999398</td>\n",
       "      <td>0.000602</td>\n",
       "      <td>0.023579</td>\n",
       "      <td>0.627024</td>\n",
       "    </tr>\n",
       "    <tr>\n",
       "      <th>2</th>\n",
       "      <td>-53.453226</td>\n",
       "      <td>185.631111</td>\n",
       "      <td>0.654555</td>\n",
       "      <td>0.412406</td>\n",
       "      <td>0.116085</td>\n",
       "      <td>0.000261</td>\n",
       "      <td>0.280851</td>\n",
       "      <td>0.999368</td>\n",
       "      <td>0.000632</td>\n",
       "      <td>0.023195</td>\n",
       "      <td>0.617420</td>\n",
       "    </tr>\n",
       "    <tr>\n",
       "      <th>3</th>\n",
       "      <td>-53.672026</td>\n",
       "      <td>185.693611</td>\n",
       "      <td>0.650555</td>\n",
       "      <td>0.412406</td>\n",
       "      <td>0.116085</td>\n",
       "      <td>0.000261</td>\n",
       "      <td>0.280851</td>\n",
       "      <td>0.999368</td>\n",
       "      <td>0.000632</td>\n",
       "      <td>0.023195</td>\n",
       "      <td>0.617420</td>\n",
       "    </tr>\n",
       "    <tr>\n",
       "      <th>4</th>\n",
       "      <td>-53.859426</td>\n",
       "      <td>185.756111</td>\n",
       "      <td>0.638555</td>\n",
       "      <td>0.412406</td>\n",
       "      <td>0.116085</td>\n",
       "      <td>0.000261</td>\n",
       "      <td>0.280851</td>\n",
       "      <td>0.999368</td>\n",
       "      <td>0.000632</td>\n",
       "      <td>0.023195</td>\n",
       "      <td>0.617420</td>\n",
       "    </tr>\n",
       "  </tbody>\n",
       "</table>\n",
       "</div>"
      ],
      "text/plain": [
       "           x           y         z    e1(21)    e2(21)    e3(21)  \\\n",
       "0 -53.031326  185.443611  0.658555  0.460452  0.114048  0.000276   \n",
       "1 -53.250126  185.568611  0.644555  0.416906  0.125244  0.000251   \n",
       "2 -53.453226  185.631111  0.654555  0.412406  0.116085  0.000261   \n",
       "3 -53.672026  185.693611  0.650555  0.412406  0.116085  0.000261   \n",
       "4 -53.859426  185.756111  0.638555  0.412406  0.116085  0.000261   \n",
       "\n",
       "   planarity(21)  anisotropy(21)  sphericity(21)  omnivariance(21)  \\\n",
       "0       0.247088        0.999401        0.000599          0.024376   \n",
       "1       0.299811        0.999398        0.000602          0.023579   \n",
       "2       0.280851        0.999368        0.000632          0.023195   \n",
       "3       0.280851        0.999368        0.000632          0.023195   \n",
       "4       0.280851        0.999368        0.000632          0.023195   \n",
       "\n",
       "   eigenentropy(21)  \n",
       "0          0.606976  \n",
       "1          0.627024  \n",
       "2          0.617420  \n",
       "3          0.617420  \n",
       "4          0.617420  "
      ]
     },
     "execution_count": 29,
     "metadata": {},
     "output_type": "execute_result"
    }
   ],
   "source": [
    "# Adicionar estrutura kdtree na nuvem\n",
    "pc_kdtree  = pc_pyntcloud.add_structure(\"kdtree\")\n",
    "\n",
    "# Vizinhanças de cada ponto k\n",
    "k_vizinhos = pc_pyntcloud.get_neighbors(k=20,kdtree=pc_kdtree)\n",
    "\n",
    "# Adicionar colunas dos autovalores (scalar fields)\n",
    "autovalores = pc_pyntcloud.add_scalar_field(\"eigen_values\", k_neighbors=k_vizinhos)\n",
    "\n",
    "# Adicionar Colunas das medidas dimensionais\n",
    "# Planaridade: (e2-e3/e1)\n",
    "eigen = pc_pyntcloud.add_scalar_field(\"planarity\",ev=autovalores)\n",
    "# Anisotropia: (e1-e3/e1)\n",
    "eigen = pc_pyntcloud.add_scalar_field(\"anisotropy\",ev=autovalores)\n",
    "# Esfericidade: (e3/e1)\n",
    "eigen = pc_pyntcloud.add_scalar_field(\"sphericity\",ev=autovalores)\n",
    "# Variância: (e1*e2*e3)^1/2\n",
    "eigen = pc_pyntcloud.add_scalar_field(\"omnivariance\",ev=autovalores)\n",
    "# Entropia: sum[ei*ln(ei)]\n",
    "eigen = pc_pyntcloud.add_scalar_field(\"eigenentropy\",ev=autovalores)\n",
    "\n",
    "pc_pyntcloud.points.head()"
   ]
  },
  {
   "cell_type": "code",
   "execution_count": 63,
   "metadata": {},
   "outputs": [],
   "source": [
    "# Retira do dataFrame todos os pontos que não passam no critério\n",
    "planos = pc_pyntcloud.points[pc_pyntcloud.points[\"planarity(21)\"] > 0.8]\n",
    "arvores = pc_pyntcloud.points[pc_pyntcloud.points[\"planarity(21)\"] < 0.2]"
   ]
  },
  {
   "cell_type": "code",
   "execution_count": 64,
   "metadata": {},
   "outputs": [],
   "source": [
    "# Converte para apenas as primeiras 3 colunas e salva a nuvem de objetos plano\n",
    "a = planos.values\n",
    "a = a[:,0:3]\n",
    "pts = pd.DataFrame(a)\n",
    "pts.rename(columns={0:'x',1:'y',2:'x'},inplace=True)\n",
    "pts.to_csv('/home/rubens/Nuvem_Pontos_3D/nuvem_planos.csv')\n"
   ]
  },
  {
   "cell_type": "code",
   "execution_count": 65,
   "metadata": {},
   "outputs": [],
   "source": [
    "# Converte para apenas as primeiras 3 colunas e salva a nuvem de objetos não-planos\n",
    "a = arvores.values\n",
    "a = a[:,0:3]\n",
    "pts = pd.DataFrame(a)\n",
    "pts.rename(columns={0:'x',1:'y',2:'x'},inplace=True)\n",
    "pts.to_csv('/home/rubens/Nuvem_Pontos_3D/nuvem_arvores.csv')\n",
    "# A função de escrita da biblioteca PyntCloud não funciona"
   ]
  },
  {
   "cell_type": "code",
   "execution_count": 52,
   "metadata": {
    "collapsed": true
   },
   "outputs": [
    {
     "data": {
      "application/vnd.jupyter.widget-view+json": {
       "model_id": "0482a1e4dca74f7a9e50d1e490009afe",
       "version_major": 2,
       "version_minor": 0
      },
      "text/plain": [
       "Renderer(camera=PerspectiveCamera(aspect=1.6, fov=90.0, position=(-4.575900339870704, 179.29775567168153, 19.7…"
      ]
     },
     "metadata": {},
     "output_type": "display_data"
    },
    {
     "data": {
      "application/vnd.jupyter.widget-view+json": {
       "model_id": "75cab4b8b4634721a3de32968c0580c0",
       "version_major": 2,
       "version_minor": 0
      },
      "text/plain": [
       "HBox(children=(Label(value='Point size:'), FloatSlider(value=36.4875, max=364.875, step=0.36487499999999995), …"
      ]
     },
     "metadata": {},
     "output_type": "display_data"
    }
   ],
   "source": [
    "# Nuvem dos objetos planos (pontos com planaridade superior que 0.80)\n",
    "nuvem_planos = pytc.from_file(\"/home/rubens/Nuvem_Pontos_3D/nuvem_planos.csv\",sep=\",\",header=0,names=[\"x\",\"y\",\"z\"])\n",
    "nuvem_planos.plot()"
   ]
  },
  {
   "cell_type": "code",
   "execution_count": 66,
   "metadata": {
    "collapsed": true
   },
   "outputs": [
    {
     "data": {
      "application/vnd.jupyter.widget-view+json": {
       "model_id": "ccbe98242c3f420d8333d0ed40b979ef",
       "version_major": 2,
       "version_minor": 0
      },
      "text/plain": [
       "Renderer(camera=PerspectiveCamera(aspect=1.6, fov=90.0, position=(-5.671152944761193, 181.0905213299242, 32.98…"
      ]
     },
     "metadata": {},
     "output_type": "display_data"
    },
    {
     "data": {
      "application/vnd.jupyter.widget-view+json": {
       "model_id": "8e3bd47b967e4a7a9dd84a6ca8268ba8",
       "version_major": 2,
       "version_minor": 0
      },
      "text/plain": [
       "HBox(children=(Label(value='Point size:'), FloatSlider(value=36.73125, max=367.3125, step=0.36731250000000004)…"
      ]
     },
     "metadata": {},
     "output_type": "display_data"
    }
   ],
   "source": [
    "# Nuvem dos objetos não planos (pontos com planaridade inferior a 0.2)\n",
    "nuvem_arvores = pytc.from_file(\"/home/rubens/Nuvem_Pontos_3D/nuvem_arvores.csv\",sep=\",\",header=0,names=[\"x\",\"y\",\"z\"])\n",
    "nuvem_arvores.plot()"
   ]
  },
  {
   "cell_type": "code",
   "execution_count": null,
   "metadata": {},
   "outputs": [],
   "source": []
  }
 ],
 "metadata": {
  "accelerator": "TPU",
  "colab": {
   "collapsed_sections": [],
   "name": "registro_filtragem.ipynb",
   "provenance": []
  },
  "kernelspec": {
   "display_name": "Python 3",
   "language": "python",
   "name": "python3"
  },
  "language_info": {
   "codemirror_mode": {
    "name": "ipython",
    "version": 3
   },
   "file_extension": ".py",
   "mimetype": "text/x-python",
   "name": "python",
   "nbconvert_exporter": "python",
   "pygments_lexer": "ipython3",
   "version": "3.6.8"
  }
 },
 "nbformat": 4,
 "nbformat_minor": 1
}
